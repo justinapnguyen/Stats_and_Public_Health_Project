{
 "cells": [
  {
   "cell_type": "markdown",
   "id": "0c146d15",
   "metadata": {
    "tags": []
   },
   "source": [
    "# Statistics & Public Health\n",
    "## Part 1: Cleaning and EDA\n"
   ]
  },
  {
   "cell_type": "markdown",
   "id": "136a71ca",
   "metadata": {},
   "source": [
    "**BrainStation**"
   ]
  },
  {
   "cell_type": "markdown",
   "id": "7f201863-101c-4322-827d-40dd61d1e868",
   "metadata": {
    "tags": []
   },
   "source": [
    "## Introduction"
   ]
  },
  {
   "cell_type": "markdown",
   "id": "21d8bbeb-6343-45fe-a16d-104a3d888b4e",
   "metadata": {},
   "source": [
    "The West Nile Virus (WNV), a viral mosquito-borne disease, is transmitted to a person when an infected mosquito bites them. \n",
    "\n",
    "In this notebook, we will explore a sample of mosquito tracking data from the city of Chicago, Illinois. Chicago has been tracking the mosquito populations and the WNV prevalence using a series of traps they placed around the city. This project aims to better understand the WNV spread in the city based on the characteristics of the mosquitos and traps, and locations. This notebook focuses on Part 1 of the project, namely the Data Cleaning and Exploratory Data Analysis (EDA)."
   ]
  },
  {
   "cell_type": "markdown",
   "id": "7f93147e-772e-4a9f-8083-79be2645238f",
   "metadata": {},
   "source": [
    "***"
   ]
  },
  {
   "cell_type": "markdown",
   "id": "37169ea8-15f0-4152-a8e4-2523dfdaa79f",
   "metadata": {},
   "source": [
    "## Table of Contents <a class=\"anchor\" id=\"toc\"></a>\n",
    "\n",
    "- [The Dataset](#the-dataset)\n",
    "- [Data Cleaning and Preparation](#data-cleaning-and-preparation)\n",
    "    - [Converting Data Types](#converting-data-types)\n",
    "    - [Duplicated Information](#duplicated-information)\n",
    "    - [Distribution of Data](#distribution-of-data)\n",
    "    - [Null Values](#null-values)\n",
    "    - [Saving the Clean Dataset](#saving-the-clean-dataset)\n",
    "- [Exploratory Data Analysis (EDA)](#exploratory-data-analysis-eda)\n",
    "    - [Number of Mosquitoes by Date](#number-of-mosquitoes-by-date)\n",
    "    - [WNV Prevalence by Species](#wnv-prevalence-by-species)\n",
    "    - [Number of Mosquitoes by Trap Type](#number-of-mosquitoes-by-trap-type)\n",
    "    - [Number of Mosquitoes by Number of Traps and WNV Prevalence per Year](#mosquitoes-by-traps-and-wnv-per-year)\n",
    "- [Conclusion](#conclusion)"
   ]
  },
  {
   "cell_type": "markdown",
   "id": "8372408f-cb0e-49e3-ab42-776ec34a7765",
   "metadata": {},
   "source": [
    "***"
   ]
  },
  {
   "cell_type": "markdown",
   "id": "a7b30ee6-d826-4122-865b-95963229c464",
   "metadata": {
    "tags": []
   },
   "source": [
    "## The Dataset <a class=\"anchor\" id=\"the-dataset\"></a>\n",
    "\n",
    "The dataset is composed of the variables in the table below.\n",
    "\n",
    "| COLUMN NAME | DESCRIPTION | DATA TYPE | NOTES |\n",
    "| :- | :- | :-: | :- |\n",
    "| Year | Year that the WNV test is performed | int64 | 2007 to 2019 |\n",
    "| Week | Week that the WNV test is performed | int64 | |\n",
    "| Address Block | Address of the location of trap | string | |\n",
    "| Block | Block number of address | int64 | |\n",
    "| Trap | Id of the trap | string | Some traps are \"satellite traps\". These are traps that are set up near (usually within 6 blocks) an established trap to enhance surveillance efforts. Satellite traps are post fixed with letters. For example, T220A is a satellite trap to T220. |\n",
    "| Trap type | Type of trap | string | |\n",
    "| Date | Date and time that the WNV test is performed | string | Please note that not all the locations are tested at all times. Also, records exist only when a particular species of mosquitoes is found at a certain trap at a certain time. |\n",
    "| Mosquito number | Number of mosquitoes caught in this trap | int64 | These test results are organized in such a way that when the number of mosquitoes exceed 50, they are split into another record (another row in the dataset), such that the number of mosquitoes are capped at 50. |\n",
    "| Mosquito ID | Id for Mosquito species | string| |\n",
    "| WNV Present | Whether West Nile Virus was present in these mosquitoes | string| |\n",
    "| Species | Mosquito species | string | |\n",
    "| Lat | Latitude of trap | float64 | |\n",
    "| Lon | Longitude of trap | float64 | |"
   ]
  },
  {
   "cell_type": "markdown",
   "id": "0e85f2e5",
   "metadata": {},
   "source": [
    "Let's import the relevant packages to analyze the data."
   ]
  },
  {
   "cell_type": "code",
   "execution_count": 1,
   "id": "a7b86975",
   "metadata": {},
   "outputs": [],
   "source": [
    "# Importing the relevant packages\n",
    "import numpy as np\n",
    "import pandas as pd\n",
    "import matplotlib.pyplot as plt\n",
    "import seaborn as sns\n",
    "import calendar"
   ]
  },
  {
   "cell_type": "markdown",
   "id": "974ae821-f0c0-4ca3-ab2a-df1a99822396",
   "metadata": {},
   "source": [
    "Now, let's read the data and take a first look at the dataset."
   ]
  },
  {
   "cell_type": "code",
   "execution_count": 3,
   "id": "836c69cd",
   "metadata": {},
   "outputs": [
    {
     "data": {
      "text/html": [
       "<div>\n",
       "<style scoped>\n",
       "    .dataframe tbody tr th:only-of-type {\n",
       "        vertical-align: middle;\n",
       "    }\n",
       "\n",
       "    .dataframe tbody tr th {\n",
       "        vertical-align: top;\n",
       "    }\n",
       "\n",
       "    .dataframe thead th {\n",
       "        text-align: right;\n",
       "    }\n",
       "</style>\n",
       "<table border=\"1\" class=\"dataframe\">\n",
       "  <thead>\n",
       "    <tr style=\"text-align: right;\">\n",
       "      <th></th>\n",
       "      <th>Year</th>\n",
       "      <th>Week</th>\n",
       "      <th>Address Block</th>\n",
       "      <th>Block</th>\n",
       "      <th>Trap</th>\n",
       "      <th>Trap type</th>\n",
       "      <th>Date</th>\n",
       "      <th>Mosquito number</th>\n",
       "      <th>Mosquito ID</th>\n",
       "      <th>WNV Present</th>\n",
       "      <th>Species</th>\n",
       "      <th>Lat</th>\n",
       "      <th>Lon</th>\n",
       "    </tr>\n",
       "  </thead>\n",
       "  <tbody>\n",
       "    <tr>\n",
       "      <th>0</th>\n",
       "      <td>2019</td>\n",
       "      <td>39</td>\n",
       "      <td>100XX W OHARE AIRPORT</td>\n",
       "      <td>100</td>\n",
       "      <td>T910</td>\n",
       "      <td>GRAVID</td>\n",
       "      <td>2019-09-26 00:09:00</td>\n",
       "      <td>2</td>\n",
       "      <td>Res</td>\n",
       "      <td>negative</td>\n",
       "      <td>CULEX RESTUANS</td>\n",
       "      <td>NaN</td>\n",
       "      <td>NaN</td>\n",
       "    </tr>\n",
       "    <tr>\n",
       "      <th>1</th>\n",
       "      <td>2019</td>\n",
       "      <td>39</td>\n",
       "      <td>52XX S KOLMAR AVE</td>\n",
       "      <td>52</td>\n",
       "      <td>T114</td>\n",
       "      <td>GRAVID</td>\n",
       "      <td>2019-09-26 00:09:00</td>\n",
       "      <td>1</td>\n",
       "      <td>Res</td>\n",
       "      <td>negative</td>\n",
       "      <td>CULEX RESTUANS</td>\n",
       "      <td>41.798211</td>\n",
       "      <td>-87.736925</td>\n",
       "    </tr>\n",
       "    <tr>\n",
       "      <th>2</th>\n",
       "      <td>2019</td>\n",
       "      <td>39</td>\n",
       "      <td>58XX N WESTERN AVE</td>\n",
       "      <td>58</td>\n",
       "      <td>T028</td>\n",
       "      <td>GRAVID</td>\n",
       "      <td>2019-09-26 00:09:00</td>\n",
       "      <td>2</td>\n",
       "      <td>Res</td>\n",
       "      <td>negative</td>\n",
       "      <td>CULEX RESTUANS</td>\n",
       "      <td>41.987245</td>\n",
       "      <td>-87.689417</td>\n",
       "    </tr>\n",
       "    <tr>\n",
       "      <th>3</th>\n",
       "      <td>2019</td>\n",
       "      <td>39</td>\n",
       "      <td>39XX N SPRINGFIELD AVE</td>\n",
       "      <td>39</td>\n",
       "      <td>T228</td>\n",
       "      <td>GRAVID</td>\n",
       "      <td>2019-09-26 00:09:00</td>\n",
       "      <td>1</td>\n",
       "      <td>Res</td>\n",
       "      <td>negative</td>\n",
       "      <td>CULEX RESTUANS</td>\n",
       "      <td>41.953664</td>\n",
       "      <td>-87.724987</td>\n",
       "    </tr>\n",
       "    <tr>\n",
       "      <th>4</th>\n",
       "      <td>2019</td>\n",
       "      <td>39</td>\n",
       "      <td>131XX S BRANDON AVE</td>\n",
       "      <td>131</td>\n",
       "      <td>T209</td>\n",
       "      <td>GRAVID</td>\n",
       "      <td>2019-09-26 00:09:00</td>\n",
       "      <td>9</td>\n",
       "      <td>Res</td>\n",
       "      <td>negative</td>\n",
       "      <td>CULEX RESTUANS</td>\n",
       "      <td>41.657069</td>\n",
       "      <td>-87.546049</td>\n",
       "    </tr>\n",
       "  </tbody>\n",
       "</table>\n",
       "</div>"
      ],
      "text/plain": [
       "   Year  Week           Address Block  Block  Trap Trap type  \\\n",
       "0  2019    39   100XX W OHARE AIRPORT    100  T910    GRAVID   \n",
       "1  2019    39       52XX S KOLMAR AVE     52  T114    GRAVID   \n",
       "2  2019    39      58XX N WESTERN AVE     58  T028    GRAVID   \n",
       "3  2019    39  39XX N SPRINGFIELD AVE     39  T228    GRAVID   \n",
       "4  2019    39     131XX S BRANDON AVE    131  T209    GRAVID   \n",
       "\n",
       "                  Date  Mosquito number Mosquito ID WNV Present  \\\n",
       "0  2019-09-26 00:09:00                2         Res    negative   \n",
       "1  2019-09-26 00:09:00                1         Res    negative   \n",
       "2  2019-09-26 00:09:00                2         Res    negative   \n",
       "3  2019-09-26 00:09:00                1         Res    negative   \n",
       "4  2019-09-26 00:09:00                9         Res    negative   \n",
       "\n",
       "          Species        Lat        Lon  \n",
       "0  CULEX RESTUANS        NaN        NaN  \n",
       "1  CULEX RESTUANS  41.798211 -87.736925  \n",
       "2  CULEX RESTUANS  41.987245 -87.689417  \n",
       "3  CULEX RESTUANS  41.953664 -87.724987  \n",
       "4  CULEX RESTUANS  41.657069 -87.546049  "
      ]
     },
     "execution_count": 3,
     "metadata": {},
     "output_type": "execute_result"
    }
   ],
   "source": [
    "# Reading the csv file into a dataframe\n",
    "mosquito_df = pd.read_csv('./CSV Files/mosquito_data.csv')\n",
    "\n",
    "# Checking the first 5 rows of the dataframe\n",
    "mosquito_df.head()"
   ]
  },
  {
   "cell_type": "code",
   "execution_count": 4,
   "id": "6685baf8",
   "metadata": {},
   "outputs": [
    {
     "name": "stdout",
     "output_type": "stream",
     "text": [
      "This dataset has 18495 rows and 13 columns.\n"
     ]
    }
   ],
   "source": [
    "# Counts the rows and columns of the dataframe\n",
    "print(f'This dataset has {mosquito_df.shape[0]} rows and {mosquito_df.shape[1]} columns.')"
   ]
  },
  {
   "cell_type": "code",
   "execution_count": 5,
   "id": "89c7823e-45dc-4fdf-8c6e-c852fa6c523e",
   "metadata": {},
   "outputs": [
    {
     "name": "stdout",
     "output_type": "stream",
     "text": [
      "<class 'pandas.core.frame.DataFrame'>\n",
      "RangeIndex: 18495 entries, 0 to 18494\n",
      "Data columns (total 13 columns):\n",
      " #   Column           Non-Null Count  Dtype  \n",
      "---  ------           --------------  -----  \n",
      " 0   Year             18495 non-null  int64  \n",
      " 1   Week             18495 non-null  int64  \n",
      " 2   Address Block    18495 non-null  object \n",
      " 3   Block            18495 non-null  int64  \n",
      " 4   Trap             18495 non-null  object \n",
      " 5   Trap type        18495 non-null  object \n",
      " 6   Date             18495 non-null  object \n",
      " 7   Mosquito number  18495 non-null  int64  \n",
      " 8   Mosquito ID      18495 non-null  object \n",
      " 9   WNV Present      18495 non-null  object \n",
      " 10  Species          18495 non-null  object \n",
      " 11  Lat              15571 non-null  float64\n",
      " 12  Lon              15571 non-null  float64\n",
      "dtypes: float64(2), int64(4), object(7)\n",
      "memory usage: 1.8+ MB\n"
     ]
    }
   ],
   "source": [
    "# Checking the information about the dataframe including the index, columns, non-null values, and dtypes.\n",
    "mosquito_df.info()"
   ]
  },
  {
   "cell_type": "markdown",
   "id": "00922788-826e-45f5-88df-4d161d0e8750",
   "metadata": {},
   "source": [
    "This dataset has 18,495 rows and 13 columns. There are 3 datatypes that encode the data: strings, integers, and decimals. 7 columns encode objects, 4 columns encode integers, and 2 columns encode decimals.\n",
    "\n",
    "<a class=\"anchor\" id=\"same-information\"></a>\n",
    "There are missing values in the `Lat` and `Lon` columns. `Address Block` and `Block` contain the same information where `Block` is just the numerical part of `Address Block`. `Mosquito ID` and `Species` also contain the same information where `Mosquito ID` is the shortened form of `Species`.\n",
    "\n",
    "We can now move on to clean and prepare the data for analyses."
   ]
  },
  {
   "cell_type": "markdown",
   "id": "f976e4d6-d4e7-4d79-9b22-47e917726f97",
   "metadata": {},
   "source": [
    "## Data Cleaning and Preparation <a class=\"anchor\" id=\"data-cleaning-and-preparation\"></a>"
   ]
  },
  {
   "cell_type": "markdown",
   "id": "3e1936a9-c37f-46d2-a4ff-981dfe9db04f",
   "metadata": {},
   "source": [
    "Before proceeding with data cleaning and analysis, it's advisable to create a copy of the dataset. This ensures that the original dataset remains intact and can be referred back to if necessary. Creating a duplicate dataset for cleaning and analysis helps maintain data integrity and provides a safeguard against inadvertent modifications to the original data."
   ]
  },
  {
   "cell_type": "code",
   "execution_count": 6,
   "id": "044d2c7c-c57f-4f9d-a64d-ec339f0215d8",
   "metadata": {},
   "outputs": [],
   "source": [
    "mosquito_dfc = mosquito_df.copy()"
   ]
  },
  {
   "cell_type": "markdown",
   "id": "204f2bb9-ce35-4a76-9163-93b7d284f0b5",
   "metadata": {},
   "source": [
    "Now, the data can be cleaned to prepare it to be used for data analysis."
   ]
  },
  {
   "cell_type": "markdown",
   "id": "2bf995e0-3766-4521-83d5-6c53ab74a999",
   "metadata": {},
   "source": [
    "### Converting Data Types <a class=\"anchor\" id=\"converting-data-types\"></a>"
   ]
  },
  {
   "cell_type": "markdown",
   "id": "43b8dd58-cbdd-47bc-b327-8013494fb744",
   "metadata": {},
   "source": [
    "The datatype for the `Date` column is currently as an `object`. To be able to use it and extract the date and time from it, it has to be converted to the `datetime` format."
   ]
  },
  {
   "cell_type": "code",
   "execution_count": 7,
   "id": "c617ecbc",
   "metadata": {},
   "outputs": [],
   "source": [
    "# Converts \"Date\" column to datetime format\n",
    "mosquito_dfc['Date'] = pd.to_datetime(mosquito_dfc['Date'])"
   ]
  },
  {
   "cell_type": "code",
   "execution_count": 8,
   "id": "bde07101-d010-492a-961d-ec53aad17534",
   "metadata": {},
   "outputs": [
    {
     "data": {
      "text/plain": [
       "Year                        int64\n",
       "Week                        int64\n",
       "Address Block              object\n",
       "Block                       int64\n",
       "Trap                       object\n",
       "Trap type                  object\n",
       "Date               datetime64[ns]\n",
       "Mosquito number             int64\n",
       "Mosquito ID                object\n",
       "WNV Present                object\n",
       "Species                    object\n",
       "Lat                       float64\n",
       "Lon                       float64\n",
       "dtype: object"
      ]
     },
     "execution_count": 8,
     "metadata": {},
     "output_type": "execute_result"
    }
   ],
   "source": [
    "# Confirming that the \"Date\" dtype changed to datetime format\n",
    "mosquito_dfc.dtypes"
   ]
  },
  {
   "cell_type": "code",
   "execution_count": 9,
   "id": "734243ac-8977-450c-94fe-5f49db30f5fd",
   "metadata": {},
   "outputs": [
    {
     "name": "stdout",
     "output_type": "stream",
     "text": [
      "This dataset covers the period between 2007-05-29 00:05:00 and 2019-09-26 00:09:00.\n"
     ]
    }
   ],
   "source": [
    "# Checking to see what period the dataset covers\n",
    "print(f\"This dataset covers the period between {mosquito_dfc['Date'].min()} and {mosquito_dfc['Date'].max()}.\")"
   ]
  },
  {
   "cell_type": "markdown",
   "id": "a2d35c9f-db4b-4665-a3db-74fa665f0e46",
   "metadata": {},
   "source": [
    "To easier analyze the data in regard to the date, the month should be extracted from the `Date` column and inserted into the dataset as a new column labeled `Month`."
   ]
  },
  {
   "cell_type": "code",
   "execution_count": 10,
   "id": "79a072ef-13ba-40f7-bc66-e75840fa5ecd",
   "metadata": {},
   "outputs": [],
   "source": [
    "# Extracts the month from \"Date\" and creates and inputs month in new column \n",
    "mosquito_dfc['Month'] = mosquito_dfc['Date'].dt.month"
   ]
  },
  {
   "cell_type": "code",
   "execution_count": 11,
   "id": "aab65a29-6b49-4030-9ccc-402f90fae8b7",
   "metadata": {},
   "outputs": [
    {
     "data": {
      "text/html": [
       "<div>\n",
       "<style scoped>\n",
       "    .dataframe tbody tr th:only-of-type {\n",
       "        vertical-align: middle;\n",
       "    }\n",
       "\n",
       "    .dataframe tbody tr th {\n",
       "        vertical-align: top;\n",
       "    }\n",
       "\n",
       "    .dataframe thead th {\n",
       "        text-align: right;\n",
       "    }\n",
       "</style>\n",
       "<table border=\"1\" class=\"dataframe\">\n",
       "  <thead>\n",
       "    <tr style=\"text-align: right;\">\n",
       "      <th></th>\n",
       "      <th>Year</th>\n",
       "      <th>Week</th>\n",
       "      <th>Address Block</th>\n",
       "      <th>Block</th>\n",
       "      <th>Trap</th>\n",
       "      <th>Trap type</th>\n",
       "      <th>Date</th>\n",
       "      <th>Mosquito number</th>\n",
       "      <th>Mosquito ID</th>\n",
       "      <th>WNV Present</th>\n",
       "      <th>Species</th>\n",
       "      <th>Lat</th>\n",
       "      <th>Lon</th>\n",
       "      <th>Month</th>\n",
       "    </tr>\n",
       "  </thead>\n",
       "  <tbody>\n",
       "    <tr>\n",
       "      <th>0</th>\n",
       "      <td>2019</td>\n",
       "      <td>39</td>\n",
       "      <td>100XX W OHARE AIRPORT</td>\n",
       "      <td>100</td>\n",
       "      <td>T910</td>\n",
       "      <td>GRAVID</td>\n",
       "      <td>2019-09-26 00:09:00</td>\n",
       "      <td>2</td>\n",
       "      <td>Res</td>\n",
       "      <td>negative</td>\n",
       "      <td>CULEX RESTUANS</td>\n",
       "      <td>NaN</td>\n",
       "      <td>NaN</td>\n",
       "      <td>9</td>\n",
       "    </tr>\n",
       "    <tr>\n",
       "      <th>1</th>\n",
       "      <td>2019</td>\n",
       "      <td>39</td>\n",
       "      <td>52XX S KOLMAR AVE</td>\n",
       "      <td>52</td>\n",
       "      <td>T114</td>\n",
       "      <td>GRAVID</td>\n",
       "      <td>2019-09-26 00:09:00</td>\n",
       "      <td>1</td>\n",
       "      <td>Res</td>\n",
       "      <td>negative</td>\n",
       "      <td>CULEX RESTUANS</td>\n",
       "      <td>41.798211</td>\n",
       "      <td>-87.736925</td>\n",
       "      <td>9</td>\n",
       "    </tr>\n",
       "    <tr>\n",
       "      <th>2</th>\n",
       "      <td>2019</td>\n",
       "      <td>39</td>\n",
       "      <td>58XX N WESTERN AVE</td>\n",
       "      <td>58</td>\n",
       "      <td>T028</td>\n",
       "      <td>GRAVID</td>\n",
       "      <td>2019-09-26 00:09:00</td>\n",
       "      <td>2</td>\n",
       "      <td>Res</td>\n",
       "      <td>negative</td>\n",
       "      <td>CULEX RESTUANS</td>\n",
       "      <td>41.987245</td>\n",
       "      <td>-87.689417</td>\n",
       "      <td>9</td>\n",
       "    </tr>\n",
       "    <tr>\n",
       "      <th>3</th>\n",
       "      <td>2019</td>\n",
       "      <td>39</td>\n",
       "      <td>39XX N SPRINGFIELD AVE</td>\n",
       "      <td>39</td>\n",
       "      <td>T228</td>\n",
       "      <td>GRAVID</td>\n",
       "      <td>2019-09-26 00:09:00</td>\n",
       "      <td>1</td>\n",
       "      <td>Res</td>\n",
       "      <td>negative</td>\n",
       "      <td>CULEX RESTUANS</td>\n",
       "      <td>41.953664</td>\n",
       "      <td>-87.724987</td>\n",
       "      <td>9</td>\n",
       "    </tr>\n",
       "    <tr>\n",
       "      <th>4</th>\n",
       "      <td>2019</td>\n",
       "      <td>39</td>\n",
       "      <td>131XX S BRANDON AVE</td>\n",
       "      <td>131</td>\n",
       "      <td>T209</td>\n",
       "      <td>GRAVID</td>\n",
       "      <td>2019-09-26 00:09:00</td>\n",
       "      <td>9</td>\n",
       "      <td>Res</td>\n",
       "      <td>negative</td>\n",
       "      <td>CULEX RESTUANS</td>\n",
       "      <td>41.657069</td>\n",
       "      <td>-87.546049</td>\n",
       "      <td>9</td>\n",
       "    </tr>\n",
       "  </tbody>\n",
       "</table>\n",
       "</div>"
      ],
      "text/plain": [
       "   Year  Week           Address Block  Block  Trap Trap type  \\\n",
       "0  2019    39   100XX W OHARE AIRPORT    100  T910    GRAVID   \n",
       "1  2019    39       52XX S KOLMAR AVE     52  T114    GRAVID   \n",
       "2  2019    39      58XX N WESTERN AVE     58  T028    GRAVID   \n",
       "3  2019    39  39XX N SPRINGFIELD AVE     39  T228    GRAVID   \n",
       "4  2019    39     131XX S BRANDON AVE    131  T209    GRAVID   \n",
       "\n",
       "                 Date  Mosquito number Mosquito ID WNV Present  \\\n",
       "0 2019-09-26 00:09:00                2         Res    negative   \n",
       "1 2019-09-26 00:09:00                1         Res    negative   \n",
       "2 2019-09-26 00:09:00                2         Res    negative   \n",
       "3 2019-09-26 00:09:00                1         Res    negative   \n",
       "4 2019-09-26 00:09:00                9         Res    negative   \n",
       "\n",
       "          Species        Lat        Lon  Month  \n",
       "0  CULEX RESTUANS        NaN        NaN      9  \n",
       "1  CULEX RESTUANS  41.798211 -87.736925      9  \n",
       "2  CULEX RESTUANS  41.987245 -87.689417      9  \n",
       "3  CULEX RESTUANS  41.953664 -87.724987      9  \n",
       "4  CULEX RESTUANS  41.657069 -87.546049      9  "
      ]
     },
     "execution_count": 11,
     "metadata": {},
     "output_type": "execute_result"
    }
   ],
   "source": [
    "# Checking to see if the \"Month\" column was added to the dataset\n",
    "mosquito_dfc.head()"
   ]
  },
  {
   "cell_type": "markdown",
   "id": "d57de077-a50f-4c81-836b-2fcad793fca1",
   "metadata": {},
   "source": [
    "From the table above, the `Month` column is shown at the end of the table. The value in that column is the numeric form of the month. To make it easier to read the month, the numeric format will be converted to the month name. To convert to the month name, the `calendar` library will need to be used. The `calendar` library was imported in the beginning with the other relevant packages."
   ]
  },
  {
   "cell_type": "code",
   "execution_count": 12,
   "id": "d6223718-927e-4393-ac2f-cd8c89dc1922",
   "metadata": {},
   "outputs": [],
   "source": [
    "# Applies the name of the calendar month for the respective month number (e.g. 8 -> Aug)\n",
    "month_names = mosquito_dfc['Month'].apply(lambda x: calendar.month_name[x])\n",
    "\n",
    "# Insert abbreviated calendar month into new column, \"Month\"\n",
    "mosquito_dfc['Month'] = month_names"
   ]
  },
  {
   "cell_type": "code",
   "execution_count": 13,
   "id": "be51acd1-4246-4e4f-b04d-51c4dc86712a",
   "metadata": {},
   "outputs": [
    {
     "data": {
      "text/html": [
       "<div>\n",
       "<style scoped>\n",
       "    .dataframe tbody tr th:only-of-type {\n",
       "        vertical-align: middle;\n",
       "    }\n",
       "\n",
       "    .dataframe tbody tr th {\n",
       "        vertical-align: top;\n",
       "    }\n",
       "\n",
       "    .dataframe thead th {\n",
       "        text-align: right;\n",
       "    }\n",
       "</style>\n",
       "<table border=\"1\" class=\"dataframe\">\n",
       "  <thead>\n",
       "    <tr style=\"text-align: right;\">\n",
       "      <th></th>\n",
       "      <th>Year</th>\n",
       "      <th>Week</th>\n",
       "      <th>Address Block</th>\n",
       "      <th>Block</th>\n",
       "      <th>Trap</th>\n",
       "      <th>Trap type</th>\n",
       "      <th>Date</th>\n",
       "      <th>Mosquito number</th>\n",
       "      <th>Mosquito ID</th>\n",
       "      <th>WNV Present</th>\n",
       "      <th>Species</th>\n",
       "      <th>Lat</th>\n",
       "      <th>Lon</th>\n",
       "      <th>Month</th>\n",
       "    </tr>\n",
       "  </thead>\n",
       "  <tbody>\n",
       "    <tr>\n",
       "      <th>0</th>\n",
       "      <td>2019</td>\n",
       "      <td>39</td>\n",
       "      <td>100XX W OHARE AIRPORT</td>\n",
       "      <td>100</td>\n",
       "      <td>T910</td>\n",
       "      <td>GRAVID</td>\n",
       "      <td>2019-09-26 00:09:00</td>\n",
       "      <td>2</td>\n",
       "      <td>Res</td>\n",
       "      <td>negative</td>\n",
       "      <td>CULEX RESTUANS</td>\n",
       "      <td>NaN</td>\n",
       "      <td>NaN</td>\n",
       "      <td>September</td>\n",
       "    </tr>\n",
       "    <tr>\n",
       "      <th>1</th>\n",
       "      <td>2019</td>\n",
       "      <td>39</td>\n",
       "      <td>52XX S KOLMAR AVE</td>\n",
       "      <td>52</td>\n",
       "      <td>T114</td>\n",
       "      <td>GRAVID</td>\n",
       "      <td>2019-09-26 00:09:00</td>\n",
       "      <td>1</td>\n",
       "      <td>Res</td>\n",
       "      <td>negative</td>\n",
       "      <td>CULEX RESTUANS</td>\n",
       "      <td>41.798211</td>\n",
       "      <td>-87.736925</td>\n",
       "      <td>September</td>\n",
       "    </tr>\n",
       "    <tr>\n",
       "      <th>2</th>\n",
       "      <td>2019</td>\n",
       "      <td>39</td>\n",
       "      <td>58XX N WESTERN AVE</td>\n",
       "      <td>58</td>\n",
       "      <td>T028</td>\n",
       "      <td>GRAVID</td>\n",
       "      <td>2019-09-26 00:09:00</td>\n",
       "      <td>2</td>\n",
       "      <td>Res</td>\n",
       "      <td>negative</td>\n",
       "      <td>CULEX RESTUANS</td>\n",
       "      <td>41.987245</td>\n",
       "      <td>-87.689417</td>\n",
       "      <td>September</td>\n",
       "    </tr>\n",
       "    <tr>\n",
       "      <th>3</th>\n",
       "      <td>2019</td>\n",
       "      <td>39</td>\n",
       "      <td>39XX N SPRINGFIELD AVE</td>\n",
       "      <td>39</td>\n",
       "      <td>T228</td>\n",
       "      <td>GRAVID</td>\n",
       "      <td>2019-09-26 00:09:00</td>\n",
       "      <td>1</td>\n",
       "      <td>Res</td>\n",
       "      <td>negative</td>\n",
       "      <td>CULEX RESTUANS</td>\n",
       "      <td>41.953664</td>\n",
       "      <td>-87.724987</td>\n",
       "      <td>September</td>\n",
       "    </tr>\n",
       "    <tr>\n",
       "      <th>4</th>\n",
       "      <td>2019</td>\n",
       "      <td>39</td>\n",
       "      <td>131XX S BRANDON AVE</td>\n",
       "      <td>131</td>\n",
       "      <td>T209</td>\n",
       "      <td>GRAVID</td>\n",
       "      <td>2019-09-26 00:09:00</td>\n",
       "      <td>9</td>\n",
       "      <td>Res</td>\n",
       "      <td>negative</td>\n",
       "      <td>CULEX RESTUANS</td>\n",
       "      <td>41.657069</td>\n",
       "      <td>-87.546049</td>\n",
       "      <td>September</td>\n",
       "    </tr>\n",
       "  </tbody>\n",
       "</table>\n",
       "</div>"
      ],
      "text/plain": [
       "   Year  Week           Address Block  Block  Trap Trap type  \\\n",
       "0  2019    39   100XX W OHARE AIRPORT    100  T910    GRAVID   \n",
       "1  2019    39       52XX S KOLMAR AVE     52  T114    GRAVID   \n",
       "2  2019    39      58XX N WESTERN AVE     58  T028    GRAVID   \n",
       "3  2019    39  39XX N SPRINGFIELD AVE     39  T228    GRAVID   \n",
       "4  2019    39     131XX S BRANDON AVE    131  T209    GRAVID   \n",
       "\n",
       "                 Date  Mosquito number Mosquito ID WNV Present  \\\n",
       "0 2019-09-26 00:09:00                2         Res    negative   \n",
       "1 2019-09-26 00:09:00                1         Res    negative   \n",
       "2 2019-09-26 00:09:00                2         Res    negative   \n",
       "3 2019-09-26 00:09:00                1         Res    negative   \n",
       "4 2019-09-26 00:09:00                9         Res    negative   \n",
       "\n",
       "          Species        Lat        Lon      Month  \n",
       "0  CULEX RESTUANS        NaN        NaN  September  \n",
       "1  CULEX RESTUANS  41.798211 -87.736925  September  \n",
       "2  CULEX RESTUANS  41.987245 -87.689417  September  \n",
       "3  CULEX RESTUANS  41.953664 -87.724987  September  \n",
       "4  CULEX RESTUANS  41.657069 -87.546049  September  "
      ]
     },
     "execution_count": 13,
     "metadata": {},
     "output_type": "execute_result"
    }
   ],
   "source": [
    "# Checking that the abbreviated calendar months is shown in the \"Month\" column\n",
    "mosquito_dfc.head()"
   ]
  },
  {
   "cell_type": "markdown",
   "id": "da762a72-a7e7-475b-8d46-9611bbeec094",
   "metadata": {},
   "source": [
    "Now that the name of the months are populated in the `Month` column, when we analyze the data, we would like it to appear in the order of the month number and not alphabetically. The next steps would be to sort the dataset by the order of the months."
   ]
  },
  {
   "cell_type": "code",
   "execution_count": 14,
   "id": "ac3f7fda-fa22-4fca-9150-a78c58e6a3d7",
   "metadata": {},
   "outputs": [
    {
     "name": "stdout",
     "output_type": "stream",
     "text": [
      "This dataset covers the period between August and September.\n"
     ]
    }
   ],
   "source": [
    "# Checking to see what months the dataset covers\n",
    "print(f\"This dataset covers the period between {mosquito_dfc['Month'].min()} and {mosquito_dfc['Month'].max()}.\")"
   ]
  },
  {
   "cell_type": "code",
   "execution_count": 15,
   "id": "a9bd13b2-7528-45f4-a987-9efe0f0bfd21",
   "metadata": {},
   "outputs": [
    {
     "data": {
      "text/plain": [
       "DatetimeIndex(['2007-05-01', '2007-06-01', '2007-07-01', '2007-08-01',\n",
       "               '2007-09-01', '2007-10-01'],\n",
       "              dtype='datetime64[ns]', freq='MS')"
      ]
     },
     "execution_count": 15,
     "metadata": {},
     "output_type": "execute_result"
    }
   ],
   "source": [
    "# Returns the first day of the each month within the stated date range\n",
    "# Used the first of the month so that May can be included as well\n",
    "dates_in_order = pd.date_range(start='2007-05-01', end='2007-10-01', freq='MS')\n",
    "dates_in_order"
   ]
  },
  {
   "cell_type": "code",
   "execution_count": 16,
   "id": "8f358aca-6af4-4e16-9c5f-4c21b2f72208",
   "metadata": {},
   "outputs": [
    {
     "data": {
      "text/plain": [
       "['May', 'June', 'July', 'August', 'September', 'October']"
      ]
     },
     "execution_count": 16,
     "metadata": {},
     "output_type": "execute_result"
    }
   ],
   "source": [
    "# Map the month integers to their proper names\n",
    "months_in_order = dates_in_order.map(lambda x: x.month_name()).to_list()\n",
    "months_in_order"
   ]
  },
  {
   "cell_type": "code",
   "execution_count": 17,
   "id": "cb35bca3-59da-4279-957c-8be37f7105c0",
   "metadata": {},
   "outputs": [],
   "source": [
    "# Changes the datatype of the \"Month\" column to categorical\n",
    "# Allows it to keep the order of the month when analyzing data\n",
    "mosquito_dfc.Month = pd.Categorical(\n",
    "    mosquito_dfc.Month,\n",
    "    categories=months_in_order,\n",
    "    ordered=True)"
   ]
  },
  {
   "cell_type": "code",
   "execution_count": 18,
   "id": "16fee760-8f52-4dc3-af24-17e297e20ebf",
   "metadata": {},
   "outputs": [
    {
     "data": {
      "text/html": [
       "<div>\n",
       "<style scoped>\n",
       "    .dataframe tbody tr th:only-of-type {\n",
       "        vertical-align: middle;\n",
       "    }\n",
       "\n",
       "    .dataframe tbody tr th {\n",
       "        vertical-align: top;\n",
       "    }\n",
       "\n",
       "    .dataframe thead th {\n",
       "        text-align: right;\n",
       "    }\n",
       "</style>\n",
       "<table border=\"1\" class=\"dataframe\">\n",
       "  <thead>\n",
       "    <tr style=\"text-align: right;\">\n",
       "      <th></th>\n",
       "      <th>Year</th>\n",
       "      <th>Week</th>\n",
       "      <th>Address Block</th>\n",
       "      <th>Block</th>\n",
       "      <th>Trap</th>\n",
       "      <th>Trap type</th>\n",
       "      <th>Date</th>\n",
       "      <th>Mosquito number</th>\n",
       "      <th>Mosquito ID</th>\n",
       "      <th>WNV Present</th>\n",
       "      <th>Species</th>\n",
       "      <th>Lat</th>\n",
       "      <th>Lon</th>\n",
       "      <th>Month</th>\n",
       "    </tr>\n",
       "  </thead>\n",
       "  <tbody>\n",
       "    <tr>\n",
       "      <th>12719</th>\n",
       "      <td>2009</td>\n",
       "      <td>20</td>\n",
       "      <td>100XX W OHARE AIRPORT</td>\n",
       "      <td>100</td>\n",
       "      <td>T915</td>\n",
       "      <td>GRAVID</td>\n",
       "      <td>2009-05-28 00:05:00</td>\n",
       "      <td>30</td>\n",
       "      <td>Res</td>\n",
       "      <td>negative</td>\n",
       "      <td>CULEX RESTUANS</td>\n",
       "      <td>NaN</td>\n",
       "      <td>NaN</td>\n",
       "      <td>May</td>\n",
       "    </tr>\n",
       "    <tr>\n",
       "      <th>12713</th>\n",
       "      <td>2009</td>\n",
       "      <td>20</td>\n",
       "      <td>4XX W 127TH</td>\n",
       "      <td>4</td>\n",
       "      <td>T135</td>\n",
       "      <td>GRAVID</td>\n",
       "      <td>2009-05-28 00:05:00</td>\n",
       "      <td>5</td>\n",
       "      <td>Res</td>\n",
       "      <td>negative</td>\n",
       "      <td>CULEX RESTUANS</td>\n",
       "      <td>NaN</td>\n",
       "      <td>NaN</td>\n",
       "      <td>May</td>\n",
       "    </tr>\n",
       "    <tr>\n",
       "      <th>12712</th>\n",
       "      <td>2009</td>\n",
       "      <td>20</td>\n",
       "      <td>127XX S DOTY AVE</td>\n",
       "      <td>127</td>\n",
       "      <td>T115</td>\n",
       "      <td>GRAVID</td>\n",
       "      <td>2009-05-28 00:05:00</td>\n",
       "      <td>1</td>\n",
       "      <td>Pip</td>\n",
       "      <td>negative</td>\n",
       "      <td>CULEX PIPIENS</td>\n",
       "      <td>41.662387</td>\n",
       "      <td>-87.590180</td>\n",
       "      <td>May</td>\n",
       "    </tr>\n",
       "    <tr>\n",
       "      <th>15494</th>\n",
       "      <td>2007</td>\n",
       "      <td>21</td>\n",
       "      <td>89XX S CARPENTER ST</td>\n",
       "      <td>89</td>\n",
       "      <td>T159</td>\n",
       "      <td>GRAVID</td>\n",
       "      <td>2007-05-29 00:05:00</td>\n",
       "      <td>1</td>\n",
       "      <td>Res</td>\n",
       "      <td>negative</td>\n",
       "      <td>CULEX RESTUANS</td>\n",
       "      <td>41.731447</td>\n",
       "      <td>-87.649722</td>\n",
       "      <td>May</td>\n",
       "    </tr>\n",
       "    <tr>\n",
       "      <th>15493</th>\n",
       "      <td>2007</td>\n",
       "      <td>21</td>\n",
       "      <td>11XX W ROOSEVELT RD</td>\n",
       "      <td>11</td>\n",
       "      <td>T048</td>\n",
       "      <td>GRAVID</td>\n",
       "      <td>2007-05-29 00:05:00</td>\n",
       "      <td>2</td>\n",
       "      <td>Res</td>\n",
       "      <td>negative</td>\n",
       "      <td>CULEX RESTUANS</td>\n",
       "      <td>41.866915</td>\n",
       "      <td>-87.654919</td>\n",
       "      <td>May</td>\n",
       "    </tr>\n",
       "    <tr>\n",
       "      <th>...</th>\n",
       "      <td>...</td>\n",
       "      <td>...</td>\n",
       "      <td>...</td>\n",
       "      <td>...</td>\n",
       "      <td>...</td>\n",
       "      <td>...</td>\n",
       "      <td>...</td>\n",
       "      <td>...</td>\n",
       "      <td>...</td>\n",
       "      <td>...</td>\n",
       "      <td>...</td>\n",
       "      <td>...</td>\n",
       "      <td>...</td>\n",
       "      <td>...</td>\n",
       "    </tr>\n",
       "    <tr>\n",
       "      <th>17770</th>\n",
       "      <td>2007</td>\n",
       "      <td>39</td>\n",
       "      <td>35XX W 51ST ST</td>\n",
       "      <td>35</td>\n",
       "      <td>T062</td>\n",
       "      <td>CDC</td>\n",
       "      <td>2007-10-04 00:10:00</td>\n",
       "      <td>12</td>\n",
       "      <td>Pip</td>\n",
       "      <td>positive</td>\n",
       "      <td>CULEX PIPIENS</td>\n",
       "      <td>41.800601</td>\n",
       "      <td>-87.711724</td>\n",
       "      <td>October</td>\n",
       "    </tr>\n",
       "    <tr>\n",
       "      <th>13752</th>\n",
       "      <td>2007</td>\n",
       "      <td>39</td>\n",
       "      <td>41XX N OAK PARK AVE</td>\n",
       "      <td>41</td>\n",
       "      <td>T002</td>\n",
       "      <td>GRAVID</td>\n",
       "      <td>2007-10-04 00:10:00</td>\n",
       "      <td>6</td>\n",
       "      <td>Pip</td>\n",
       "      <td>negative</td>\n",
       "      <td>CULEX PIPIENS</td>\n",
       "      <td>41.956299</td>\n",
       "      <td>-87.797517</td>\n",
       "      <td>October</td>\n",
       "    </tr>\n",
       "    <tr>\n",
       "      <th>13751</th>\n",
       "      <td>2007</td>\n",
       "      <td>39</td>\n",
       "      <td>11XX W ROOSEVELT RD</td>\n",
       "      <td>11</td>\n",
       "      <td>T048</td>\n",
       "      <td>GRAVID</td>\n",
       "      <td>2007-10-04 00:10:00</td>\n",
       "      <td>6</td>\n",
       "      <td>Pip</td>\n",
       "      <td>negative</td>\n",
       "      <td>CULEX PIPIENS</td>\n",
       "      <td>41.866915</td>\n",
       "      <td>-87.654919</td>\n",
       "      <td>October</td>\n",
       "    </tr>\n",
       "    <tr>\n",
       "      <th>13763</th>\n",
       "      <td>2007</td>\n",
       "      <td>39</td>\n",
       "      <td>5XX N STREETER DR</td>\n",
       "      <td>5</td>\n",
       "      <td>T129</td>\n",
       "      <td>GRAVID</td>\n",
       "      <td>2007-10-04 00:10:00</td>\n",
       "      <td>1</td>\n",
       "      <td>Res</td>\n",
       "      <td>negative</td>\n",
       "      <td>CULEX RESTUANS</td>\n",
       "      <td>41.891513</td>\n",
       "      <td>-87.609785</td>\n",
       "      <td>October</td>\n",
       "    </tr>\n",
       "    <tr>\n",
       "      <th>13730</th>\n",
       "      <td>2007</td>\n",
       "      <td>39</td>\n",
       "      <td>35XX W 51ST ST</td>\n",
       "      <td>35</td>\n",
       "      <td>T062</td>\n",
       "      <td>CDC</td>\n",
       "      <td>2007-10-04 00:10:00</td>\n",
       "      <td>12</td>\n",
       "      <td>Pip</td>\n",
       "      <td>positive</td>\n",
       "      <td>CULEX PIPIENS</td>\n",
       "      <td>41.800597</td>\n",
       "      <td>-87.711730</td>\n",
       "      <td>October</td>\n",
       "    </tr>\n",
       "  </tbody>\n",
       "</table>\n",
       "<p>18495 rows × 14 columns</p>\n",
       "</div>"
      ],
      "text/plain": [
       "       Year  Week          Address Block  Block  Trap Trap type  \\\n",
       "12719  2009    20  100XX W OHARE AIRPORT    100  T915    GRAVID   \n",
       "12713  2009    20            4XX W 127TH      4  T135    GRAVID   \n",
       "12712  2009    20       127XX S DOTY AVE    127  T115    GRAVID   \n",
       "15494  2007    21    89XX S CARPENTER ST     89  T159    GRAVID   \n",
       "15493  2007    21    11XX W ROOSEVELT RD     11  T048    GRAVID   \n",
       "...     ...   ...                    ...    ...   ...       ...   \n",
       "17770  2007    39         35XX W 51ST ST     35  T062       CDC   \n",
       "13752  2007    39    41XX N OAK PARK AVE     41  T002    GRAVID   \n",
       "13751  2007    39    11XX W ROOSEVELT RD     11  T048    GRAVID   \n",
       "13763  2007    39      5XX N STREETER DR      5  T129    GRAVID   \n",
       "13730  2007    39         35XX W 51ST ST     35  T062       CDC   \n",
       "\n",
       "                     Date  Mosquito number Mosquito ID WNV Present  \\\n",
       "12719 2009-05-28 00:05:00               30         Res    negative   \n",
       "12713 2009-05-28 00:05:00                5         Res    negative   \n",
       "12712 2009-05-28 00:05:00                1         Pip    negative   \n",
       "15494 2007-05-29 00:05:00                1         Res    negative   \n",
       "15493 2007-05-29 00:05:00                2         Res    negative   \n",
       "...                   ...              ...         ...         ...   \n",
       "17770 2007-10-04 00:10:00               12         Pip    positive   \n",
       "13752 2007-10-04 00:10:00                6         Pip    negative   \n",
       "13751 2007-10-04 00:10:00                6         Pip    negative   \n",
       "13763 2007-10-04 00:10:00                1         Res    negative   \n",
       "13730 2007-10-04 00:10:00               12         Pip    positive   \n",
       "\n",
       "              Species        Lat        Lon    Month  \n",
       "12719  CULEX RESTUANS        NaN        NaN      May  \n",
       "12713  CULEX RESTUANS        NaN        NaN      May  \n",
       "12712   CULEX PIPIENS  41.662387 -87.590180      May  \n",
       "15494  CULEX RESTUANS  41.731447 -87.649722      May  \n",
       "15493  CULEX RESTUANS  41.866915 -87.654919      May  \n",
       "...               ...        ...        ...      ...  \n",
       "17770   CULEX PIPIENS  41.800601 -87.711724  October  \n",
       "13752   CULEX PIPIENS  41.956299 -87.797517  October  \n",
       "13751   CULEX PIPIENS  41.866915 -87.654919  October  \n",
       "13763  CULEX RESTUANS  41.891513 -87.609785  October  \n",
       "13730   CULEX PIPIENS  41.800597 -87.711730  October  \n",
       "\n",
       "[18495 rows x 14 columns]"
      ]
     },
     "execution_count": 18,
     "metadata": {},
     "output_type": "execute_result"
    }
   ],
   "source": [
    "# Sorts \"Month\" column by order of the months\n",
    "mosquito_dfc.sort_values('Month')"
   ]
  },
  {
   "cell_type": "markdown",
   "id": "723498ce-59a1-4bfd-912a-bd126f66a08b",
   "metadata": {},
   "source": [
    "The dataset is now sorted by order of the months. Now, we check the dataset to make sure everything looks right before moving on."
   ]
  },
  {
   "cell_type": "code",
   "execution_count": 19,
   "id": "b9d869f3-73c8-41df-8bc2-d35dbb263ec0",
   "metadata": {},
   "outputs": [
    {
     "name": "stdout",
     "output_type": "stream",
     "text": [
      "This dataset now has 18495 rows and 14 columns.\n"
     ]
    }
   ],
   "source": [
    "# Checking the shape of the dataset\n",
    "print(f'This dataset now has {mosquito_dfc.shape[0]} rows and {mosquito_dfc.shape[1]} columns.')"
   ]
  },
  {
   "cell_type": "code",
   "execution_count": 20,
   "id": "cac2447a-165e-4a89-838d-6c0f6c213d48",
   "metadata": {},
   "outputs": [
    {
     "name": "stdout",
     "output_type": "stream",
     "text": [
      "<class 'pandas.core.frame.DataFrame'>\n",
      "RangeIndex: 18495 entries, 0 to 18494\n",
      "Data columns (total 14 columns):\n",
      " #   Column           Non-Null Count  Dtype         \n",
      "---  ------           --------------  -----         \n",
      " 0   Year             18495 non-null  int64         \n",
      " 1   Week             18495 non-null  int64         \n",
      " 2   Address Block    18495 non-null  object        \n",
      " 3   Block            18495 non-null  int64         \n",
      " 4   Trap             18495 non-null  object        \n",
      " 5   Trap type        18495 non-null  object        \n",
      " 6   Date             18495 non-null  datetime64[ns]\n",
      " 7   Mosquito number  18495 non-null  int64         \n",
      " 8   Mosquito ID      18495 non-null  object        \n",
      " 9   WNV Present      18495 non-null  object        \n",
      " 10  Species          18495 non-null  object        \n",
      " 11  Lat              15571 non-null  float64       \n",
      " 12  Lon              15571 non-null  float64       \n",
      " 13  Month            18495 non-null  category      \n",
      "dtypes: category(1), datetime64[ns](1), float64(2), int64(4), object(6)\n",
      "memory usage: 1.9+ MB\n"
     ]
    }
   ],
   "source": [
    "# Checking the information of dataset\n",
    "mosquito_dfc.info()"
   ]
  },
  {
   "cell_type": "markdown",
   "id": "032ddb6a-b09a-494c-ac45-35c4df7b9cca",
   "metadata": {},
   "source": [
    "Since everything looks good, we can move on to checking the dataset for duplicated rows."
   ]
  },
  {
   "cell_type": "markdown",
   "id": "a15b3eaa-937d-414b-a74e-a3dd15daa1ea",
   "metadata": {},
   "source": [
    "### Duplicated Information <a class=\"anchor\" id=\"duplicated-information\"></a>"
   ]
  },
  {
   "cell_type": "markdown",
   "id": "17fd1d7a-6286-419c-b6e6-505626af9e00",
   "metadata": {},
   "source": [
    "When analyzing data, we should check to see if there are any duplicate information. If there are, we should look into what information is duplicated to determine the best way to handle those duplicates. The dataset will now be checked for duplicated rows and columns."
   ]
  },
  {
   "cell_type": "code",
   "execution_count": 21,
   "id": "125323ec",
   "metadata": {},
   "outputs": [
    {
     "name": "stdout",
     "output_type": "stream",
     "text": [
      "There are 658 duplicated rows and 0 duplicated columns.\n"
     ]
    }
   ],
   "source": [
    "# Counts the number of rows that contain duplicate information in the dataframe\n",
    "duplicated_rows = mosquito_dfc.duplicated()\n",
    "duplicated_columns = mosquito_dfc.T.duplicated()\n",
    "print(f'There are {duplicated_rows.sum()} duplicated rows and {duplicated_columns.sum()} duplicated columns.')"
   ]
  },
  {
   "cell_type": "code",
   "execution_count": 22,
   "id": "afc6f46a-a51b-4e2c-8daf-692822f06941",
   "metadata": {},
   "outputs": [
    {
     "name": "stdout",
     "output_type": "stream",
     "text": [
      "The percentage of duplicated rows is 0.03558.\n"
     ]
    }
   ],
   "source": [
    "# Calculates the percentage of rows that have duplicates\n",
    "print(f'The percentage of duplicated rows is {round(duplicated_rows.mean(), 5)}.')"
   ]
  },
  {
   "cell_type": "markdown",
   "id": "f5eb8d6e-fe93-43d0-8473-4c528d410838",
   "metadata": {},
   "source": [
    "We see that there are no duplicated columns. However, **3.56%** of the rows in the dataset are duplicated. We will now look into the rows to see if they are actual duplicates."
   ]
  },
  {
   "cell_type": "code",
   "execution_count": 23,
   "id": "a5d19bda-ecf3-4866-9ca6-e0bee113304d",
   "metadata": {},
   "outputs": [
    {
     "data": {
      "text/html": [
       "<div>\n",
       "<style scoped>\n",
       "    .dataframe tbody tr th:only-of-type {\n",
       "        vertical-align: middle;\n",
       "    }\n",
       "\n",
       "    .dataframe tbody tr th {\n",
       "        vertical-align: top;\n",
       "    }\n",
       "\n",
       "    .dataframe thead th {\n",
       "        text-align: right;\n",
       "    }\n",
       "</style>\n",
       "<table border=\"1\" class=\"dataframe\">\n",
       "  <thead>\n",
       "    <tr style=\"text-align: right;\">\n",
       "      <th></th>\n",
       "      <th>Year</th>\n",
       "      <th>Week</th>\n",
       "      <th>Address Block</th>\n",
       "      <th>Block</th>\n",
       "      <th>Trap</th>\n",
       "      <th>Trap type</th>\n",
       "      <th>Date</th>\n",
       "      <th>Mosquito number</th>\n",
       "      <th>Mosquito ID</th>\n",
       "      <th>WNV Present</th>\n",
       "      <th>Species</th>\n",
       "      <th>Lat</th>\n",
       "      <th>Lon</th>\n",
       "      <th>Month</th>\n",
       "    </tr>\n",
       "  </thead>\n",
       "  <tbody>\n",
       "    <tr>\n",
       "      <th>15849</th>\n",
       "      <td>2010</td>\n",
       "      <td>33</td>\n",
       "      <td>100XX W OHARE AIRPORT</td>\n",
       "      <td>100</td>\n",
       "      <td>T908</td>\n",
       "      <td>CDC</td>\n",
       "      <td>2010-08-20 00:08:00</td>\n",
       "      <td>5</td>\n",
       "      <td>Pip</td>\n",
       "      <td>positive</td>\n",
       "      <td>CULEX PIPIENS</td>\n",
       "      <td>NaN</td>\n",
       "      <td>NaN</td>\n",
       "      <td>August</td>\n",
       "    </tr>\n",
       "    <tr>\n",
       "      <th>17477</th>\n",
       "      <td>2010</td>\n",
       "      <td>33</td>\n",
       "      <td>100XX W OHARE AIRPORT</td>\n",
       "      <td>100</td>\n",
       "      <td>T908</td>\n",
       "      <td>CDC</td>\n",
       "      <td>2010-08-20 00:08:00</td>\n",
       "      <td>5</td>\n",
       "      <td>Pip</td>\n",
       "      <td>positive</td>\n",
       "      <td>CULEX PIPIENS</td>\n",
       "      <td>NaN</td>\n",
       "      <td>NaN</td>\n",
       "      <td>August</td>\n",
       "    </tr>\n",
       "    <tr>\n",
       "      <th>18120</th>\n",
       "      <td>2010</td>\n",
       "      <td>33</td>\n",
       "      <td>100XX W OHARE AIRPORT</td>\n",
       "      <td>100</td>\n",
       "      <td>T908</td>\n",
       "      <td>CDC</td>\n",
       "      <td>2010-08-20 00:08:00</td>\n",
       "      <td>5</td>\n",
       "      <td>Pip</td>\n",
       "      <td>positive</td>\n",
       "      <td>CULEX PIPIENS</td>\n",
       "      <td>NaN</td>\n",
       "      <td>NaN</td>\n",
       "      <td>August</td>\n",
       "    </tr>\n",
       "    <tr>\n",
       "      <th>18161</th>\n",
       "      <td>2010</td>\n",
       "      <td>33</td>\n",
       "      <td>100XX W OHARE AIRPORT</td>\n",
       "      <td>100</td>\n",
       "      <td>T908</td>\n",
       "      <td>CDC</td>\n",
       "      <td>2010-08-20 00:08:00</td>\n",
       "      <td>5</td>\n",
       "      <td>Pip</td>\n",
       "      <td>positive</td>\n",
       "      <td>CULEX PIPIENS</td>\n",
       "      <td>NaN</td>\n",
       "      <td>NaN</td>\n",
       "      <td>August</td>\n",
       "    </tr>\n",
       "    <tr>\n",
       "      <th>18467</th>\n",
       "      <td>2010</td>\n",
       "      <td>33</td>\n",
       "      <td>100XX W OHARE AIRPORT</td>\n",
       "      <td>100</td>\n",
       "      <td>T908</td>\n",
       "      <td>CDC</td>\n",
       "      <td>2010-08-20 00:08:00</td>\n",
       "      <td>5</td>\n",
       "      <td>Pip</td>\n",
       "      <td>positive</td>\n",
       "      <td>CULEX PIPIENS</td>\n",
       "      <td>NaN</td>\n",
       "      <td>NaN</td>\n",
       "      <td>August</td>\n",
       "    </tr>\n",
       "    <tr>\n",
       "      <th>17486</th>\n",
       "      <td>2007</td>\n",
       "      <td>28</td>\n",
       "      <td>4XX W 127TH</td>\n",
       "      <td>4</td>\n",
       "      <td>T135</td>\n",
       "      <td>CDC</td>\n",
       "      <td>2007-08-01 02:08:34</td>\n",
       "      <td>10</td>\n",
       "      <td>Pip</td>\n",
       "      <td>positive</td>\n",
       "      <td>CULEX PIPIENS</td>\n",
       "      <td>NaN</td>\n",
       "      <td>NaN</td>\n",
       "      <td>August</td>\n",
       "    </tr>\n",
       "    <tr>\n",
       "      <th>17613</th>\n",
       "      <td>2007</td>\n",
       "      <td>28</td>\n",
       "      <td>4XX W 127TH</td>\n",
       "      <td>4</td>\n",
       "      <td>T135</td>\n",
       "      <td>CDC</td>\n",
       "      <td>2007-08-01 02:08:34</td>\n",
       "      <td>10</td>\n",
       "      <td>Pip</td>\n",
       "      <td>positive</td>\n",
       "      <td>CULEX PIPIENS</td>\n",
       "      <td>NaN</td>\n",
       "      <td>NaN</td>\n",
       "      <td>August</td>\n",
       "    </tr>\n",
       "    <tr>\n",
       "      <th>17733</th>\n",
       "      <td>2007</td>\n",
       "      <td>28</td>\n",
       "      <td>4XX W 127TH</td>\n",
       "      <td>4</td>\n",
       "      <td>T135</td>\n",
       "      <td>CDC</td>\n",
       "      <td>2007-08-01 02:08:34</td>\n",
       "      <td>10</td>\n",
       "      <td>Pip</td>\n",
       "      <td>positive</td>\n",
       "      <td>CULEX PIPIENS</td>\n",
       "      <td>NaN</td>\n",
       "      <td>NaN</td>\n",
       "      <td>August</td>\n",
       "    </tr>\n",
       "    <tr>\n",
       "      <th>16648</th>\n",
       "      <td>2007</td>\n",
       "      <td>34</td>\n",
       "      <td>4XX W 127TH</td>\n",
       "      <td>4</td>\n",
       "      <td>T135</td>\n",
       "      <td>CDC</td>\n",
       "      <td>2007-08-24 00:08:00</td>\n",
       "      <td>50</td>\n",
       "      <td>Pip</td>\n",
       "      <td>positive</td>\n",
       "      <td>CULEX PIPIENS</td>\n",
       "      <td>NaN</td>\n",
       "      <td>NaN</td>\n",
       "      <td>August</td>\n",
       "    </tr>\n",
       "    <tr>\n",
       "      <th>17409</th>\n",
       "      <td>2007</td>\n",
       "      <td>34</td>\n",
       "      <td>4XX W 127TH</td>\n",
       "      <td>4</td>\n",
       "      <td>T135</td>\n",
       "      <td>CDC</td>\n",
       "      <td>2007-08-24 00:08:00</td>\n",
       "      <td>50</td>\n",
       "      <td>Pip</td>\n",
       "      <td>positive</td>\n",
       "      <td>CULEX PIPIENS</td>\n",
       "      <td>NaN</td>\n",
       "      <td>NaN</td>\n",
       "      <td>August</td>\n",
       "    </tr>\n",
       "    <tr>\n",
       "      <th>17817</th>\n",
       "      <td>2007</td>\n",
       "      <td>34</td>\n",
       "      <td>4XX W 127TH</td>\n",
       "      <td>4</td>\n",
       "      <td>T135</td>\n",
       "      <td>CDC</td>\n",
       "      <td>2007-08-24 00:08:00</td>\n",
       "      <td>50</td>\n",
       "      <td>Pip</td>\n",
       "      <td>positive</td>\n",
       "      <td>CULEX PIPIENS</td>\n",
       "      <td>NaN</td>\n",
       "      <td>NaN</td>\n",
       "      <td>August</td>\n",
       "    </tr>\n",
       "    <tr>\n",
       "      <th>18289</th>\n",
       "      <td>2007</td>\n",
       "      <td>34</td>\n",
       "      <td>4XX W 127TH</td>\n",
       "      <td>4</td>\n",
       "      <td>T135</td>\n",
       "      <td>CDC</td>\n",
       "      <td>2007-08-24 00:08:00</td>\n",
       "      <td>50</td>\n",
       "      <td>Pip</td>\n",
       "      <td>positive</td>\n",
       "      <td>CULEX PIPIENS</td>\n",
       "      <td>NaN</td>\n",
       "      <td>NaN</td>\n",
       "      <td>August</td>\n",
       "    </tr>\n",
       "    <tr>\n",
       "      <th>15744</th>\n",
       "      <td>2007</td>\n",
       "      <td>35</td>\n",
       "      <td>4XX W 127TH</td>\n",
       "      <td>4</td>\n",
       "      <td>T135</td>\n",
       "      <td>CDC</td>\n",
       "      <td>2007-09-05 00:09:00</td>\n",
       "      <td>38</td>\n",
       "      <td>Pip</td>\n",
       "      <td>positive</td>\n",
       "      <td>CULEX PIPIENS</td>\n",
       "      <td>NaN</td>\n",
       "      <td>NaN</td>\n",
       "      <td>September</td>\n",
       "    </tr>\n",
       "    <tr>\n",
       "      <th>16630</th>\n",
       "      <td>2007</td>\n",
       "      <td>35</td>\n",
       "      <td>4XX W 127TH</td>\n",
       "      <td>4</td>\n",
       "      <td>T135</td>\n",
       "      <td>CDC</td>\n",
       "      <td>2007-09-05 00:09:00</td>\n",
       "      <td>38</td>\n",
       "      <td>Pip</td>\n",
       "      <td>positive</td>\n",
       "      <td>CULEX PIPIENS</td>\n",
       "      <td>NaN</td>\n",
       "      <td>NaN</td>\n",
       "      <td>September</td>\n",
       "    </tr>\n",
       "    <tr>\n",
       "      <th>17224</th>\n",
       "      <td>2007</td>\n",
       "      <td>35</td>\n",
       "      <td>4XX W 127TH</td>\n",
       "      <td>4</td>\n",
       "      <td>T135</td>\n",
       "      <td>CDC</td>\n",
       "      <td>2007-09-05 00:09:00</td>\n",
       "      <td>38</td>\n",
       "      <td>Pip</td>\n",
       "      <td>positive</td>\n",
       "      <td>CULEX PIPIENS</td>\n",
       "      <td>NaN</td>\n",
       "      <td>NaN</td>\n",
       "      <td>September</td>\n",
       "    </tr>\n",
       "    <tr>\n",
       "      <th>15850</th>\n",
       "      <td>2011</td>\n",
       "      <td>35</td>\n",
       "      <td>100XX W OHARE</td>\n",
       "      <td>100</td>\n",
       "      <td>T903</td>\n",
       "      <td>GRAVID</td>\n",
       "      <td>2011-09-02 00:09:00</td>\n",
       "      <td>12</td>\n",
       "      <td>Pip</td>\n",
       "      <td>positive</td>\n",
       "      <td>CULEX PIPIENS</td>\n",
       "      <td>NaN</td>\n",
       "      <td>NaN</td>\n",
       "      <td>September</td>\n",
       "    </tr>\n",
       "    <tr>\n",
       "      <th>15953</th>\n",
       "      <td>2011</td>\n",
       "      <td>35</td>\n",
       "      <td>100XX W OHARE</td>\n",
       "      <td>100</td>\n",
       "      <td>T903</td>\n",
       "      <td>GRAVID</td>\n",
       "      <td>2011-09-02 00:09:00</td>\n",
       "      <td>12</td>\n",
       "      <td>Pip</td>\n",
       "      <td>positive</td>\n",
       "      <td>CULEX PIPIENS</td>\n",
       "      <td>NaN</td>\n",
       "      <td>NaN</td>\n",
       "      <td>September</td>\n",
       "    </tr>\n",
       "    <tr>\n",
       "      <th>17239</th>\n",
       "      <td>2011</td>\n",
       "      <td>35</td>\n",
       "      <td>100XX W OHARE</td>\n",
       "      <td>100</td>\n",
       "      <td>T903</td>\n",
       "      <td>GRAVID</td>\n",
       "      <td>2011-09-02 00:09:00</td>\n",
       "      <td>12</td>\n",
       "      <td>Pip</td>\n",
       "      <td>positive</td>\n",
       "      <td>CULEX PIPIENS</td>\n",
       "      <td>NaN</td>\n",
       "      <td>NaN</td>\n",
       "      <td>September</td>\n",
       "    </tr>\n",
       "    <tr>\n",
       "      <th>17765</th>\n",
       "      <td>2011</td>\n",
       "      <td>35</td>\n",
       "      <td>100XX W OHARE</td>\n",
       "      <td>100</td>\n",
       "      <td>T903</td>\n",
       "      <td>GRAVID</td>\n",
       "      <td>2011-09-02 00:09:00</td>\n",
       "      <td>12</td>\n",
       "      <td>Pip</td>\n",
       "      <td>positive</td>\n",
       "      <td>CULEX PIPIENS</td>\n",
       "      <td>NaN</td>\n",
       "      <td>NaN</td>\n",
       "      <td>September</td>\n",
       "    </tr>\n",
       "    <tr>\n",
       "      <th>18224</th>\n",
       "      <td>2011</td>\n",
       "      <td>35</td>\n",
       "      <td>100XX W OHARE</td>\n",
       "      <td>100</td>\n",
       "      <td>T903</td>\n",
       "      <td>GRAVID</td>\n",
       "      <td>2011-09-02 00:09:00</td>\n",
       "      <td>12</td>\n",
       "      <td>Pip</td>\n",
       "      <td>positive</td>\n",
       "      <td>CULEX PIPIENS</td>\n",
       "      <td>NaN</td>\n",
       "      <td>NaN</td>\n",
       "      <td>September</td>\n",
       "    </tr>\n",
       "  </tbody>\n",
       "</table>\n",
       "</div>"
      ],
      "text/plain": [
       "       Year  Week          Address Block  Block  Trap Trap type  \\\n",
       "15849  2010    33  100XX W OHARE AIRPORT    100  T908       CDC   \n",
       "17477  2010    33  100XX W OHARE AIRPORT    100  T908       CDC   \n",
       "18120  2010    33  100XX W OHARE AIRPORT    100  T908       CDC   \n",
       "18161  2010    33  100XX W OHARE AIRPORT    100  T908       CDC   \n",
       "18467  2010    33  100XX W OHARE AIRPORT    100  T908       CDC   \n",
       "17486  2007    28            4XX W 127TH      4  T135       CDC   \n",
       "17613  2007    28            4XX W 127TH      4  T135       CDC   \n",
       "17733  2007    28            4XX W 127TH      4  T135       CDC   \n",
       "16648  2007    34            4XX W 127TH      4  T135       CDC   \n",
       "17409  2007    34            4XX W 127TH      4  T135       CDC   \n",
       "17817  2007    34            4XX W 127TH      4  T135       CDC   \n",
       "18289  2007    34            4XX W 127TH      4  T135       CDC   \n",
       "15744  2007    35            4XX W 127TH      4  T135       CDC   \n",
       "16630  2007    35            4XX W 127TH      4  T135       CDC   \n",
       "17224  2007    35            4XX W 127TH      4  T135       CDC   \n",
       "15850  2011    35          100XX W OHARE    100  T903    GRAVID   \n",
       "15953  2011    35          100XX W OHARE    100  T903    GRAVID   \n",
       "17239  2011    35          100XX W OHARE    100  T903    GRAVID   \n",
       "17765  2011    35          100XX W OHARE    100  T903    GRAVID   \n",
       "18224  2011    35          100XX W OHARE    100  T903    GRAVID   \n",
       "\n",
       "                     Date  Mosquito number Mosquito ID WNV Present  \\\n",
       "15849 2010-08-20 00:08:00                5         Pip    positive   \n",
       "17477 2010-08-20 00:08:00                5         Pip    positive   \n",
       "18120 2010-08-20 00:08:00                5         Pip    positive   \n",
       "18161 2010-08-20 00:08:00                5         Pip    positive   \n",
       "18467 2010-08-20 00:08:00                5         Pip    positive   \n",
       "17486 2007-08-01 02:08:34               10         Pip    positive   \n",
       "17613 2007-08-01 02:08:34               10         Pip    positive   \n",
       "17733 2007-08-01 02:08:34               10         Pip    positive   \n",
       "16648 2007-08-24 00:08:00               50         Pip    positive   \n",
       "17409 2007-08-24 00:08:00               50         Pip    positive   \n",
       "17817 2007-08-24 00:08:00               50         Pip    positive   \n",
       "18289 2007-08-24 00:08:00               50         Pip    positive   \n",
       "15744 2007-09-05 00:09:00               38         Pip    positive   \n",
       "16630 2007-09-05 00:09:00               38         Pip    positive   \n",
       "17224 2007-09-05 00:09:00               38         Pip    positive   \n",
       "15850 2011-09-02 00:09:00               12         Pip    positive   \n",
       "15953 2011-09-02 00:09:00               12         Pip    positive   \n",
       "17239 2011-09-02 00:09:00               12         Pip    positive   \n",
       "17765 2011-09-02 00:09:00               12         Pip    positive   \n",
       "18224 2011-09-02 00:09:00               12         Pip    positive   \n",
       "\n",
       "             Species  Lat  Lon      Month  \n",
       "15849  CULEX PIPIENS  NaN  NaN     August  \n",
       "17477  CULEX PIPIENS  NaN  NaN     August  \n",
       "18120  CULEX PIPIENS  NaN  NaN     August  \n",
       "18161  CULEX PIPIENS  NaN  NaN     August  \n",
       "18467  CULEX PIPIENS  NaN  NaN     August  \n",
       "17486  CULEX PIPIENS  NaN  NaN     August  \n",
       "17613  CULEX PIPIENS  NaN  NaN     August  \n",
       "17733  CULEX PIPIENS  NaN  NaN     August  \n",
       "16648  CULEX PIPIENS  NaN  NaN     August  \n",
       "17409  CULEX PIPIENS  NaN  NaN     August  \n",
       "17817  CULEX PIPIENS  NaN  NaN     August  \n",
       "18289  CULEX PIPIENS  NaN  NaN     August  \n",
       "15744  CULEX PIPIENS  NaN  NaN  September  \n",
       "16630  CULEX PIPIENS  NaN  NaN  September  \n",
       "17224  CULEX PIPIENS  NaN  NaN  September  \n",
       "15850  CULEX PIPIENS  NaN  NaN  September  \n",
       "15953  CULEX PIPIENS  NaN  NaN  September  \n",
       "17239  CULEX PIPIENS  NaN  NaN  September  \n",
       "17765  CULEX PIPIENS  NaN  NaN  September  \n",
       "18224  CULEX PIPIENS  NaN  NaN  September  "
      ]
     },
     "execution_count": 23,
     "metadata": {},
     "output_type": "execute_result"
    }
   ],
   "source": [
    "# Sorting and looking into the first 20 duplicated rows\n",
    "mosquito_dfc[duplicated_rows].sort_values(by = ['Trap type','Species','Address Block','Lat','Lon','Date','Mosquito number']).head(20)"
   ]
  },
  {
   "cell_type": "markdown",
   "id": "4e2ea34c-a482-413a-a8a1-dc83c97f5af9",
   "metadata": {},
   "source": [
    "Upon reviewing the table above, it's apparent that several rows contain identical information. This duplication likely occurred due to instances where the number of mosquitoes exceeded 50, necessitating a split into multiple records. However, upon closer examination, it's evident that in the majority of cases, the mosquito count remains below 50. It's improbable that four separate instances of exactly 50 mosquitoes of the same species were observed simultaneously at the same location and trap. Hence, it's reasonable to conclude that these are indeed duplicates and should be eliminated from the dataset."
   ]
  },
  {
   "cell_type": "code",
   "execution_count": 24,
   "id": "a9e5b96d-6ed1-43f5-b5c4-98c475f9dc2c",
   "metadata": {},
   "outputs": [],
   "source": [
    "# Drops the duplicates in the source dataframe\n",
    "mosquito_dfc.drop_duplicates(inplace = True)"
   ]
  },
  {
   "cell_type": "markdown",
   "id": "16525776-d43f-4498-93ef-18ceae58de6a",
   "metadata": {},
   "source": [
    "Now, we will make sure that there are no more duplicated rows in the dataset."
   ]
  },
  {
   "cell_type": "code",
   "execution_count": 25,
   "id": "d2a2e02a-0184-4bcc-a02a-b6f17f40720f",
   "metadata": {},
   "outputs": [
    {
     "name": "stdout",
     "output_type": "stream",
     "text": [
      "There are 0 duplicated rows.\n"
     ]
    }
   ],
   "source": [
    "# Checking to make sure there are no more duplicated rows\n",
    "duplicated_rows = mosquito_dfc.duplicated().sum()\n",
    "print(f'There are {duplicated_rows} duplicated rows.')"
   ]
  },
  {
   "cell_type": "markdown",
   "id": "e576d8f8-70c9-4791-a66d-db7b47b8f51b",
   "metadata": {},
   "source": [
    "[Earlier](#same-information), we also stated that `Address Block` and `Block` as well as `Mosquito ID` and `Species` contained the same information. Since this is the case, we can drop the `Block` and `Mosquito ID` columns."
   ]
  },
  {
   "cell_type": "code",
   "execution_count": 26,
   "id": "bf388e1e-de5d-4600-9fa3-62add90d80e1",
   "metadata": {},
   "outputs": [],
   "source": [
    "# Drops the \"Block\" and \"Mosquito ID\" columns\n",
    "mosquito_dfc = mosquito_dfc.drop(columns = ['Block', 'Mosquito ID'])"
   ]
  },
  {
   "cell_type": "markdown",
   "id": "39aa9b74-605c-4660-8422-faa75d49dee3",
   "metadata": {},
   "source": [
    "### Distribution of Data <a class=\"anchor\" id=\"distribution-of-data\"></a>"
   ]
  },
  {
   "cell_type": "markdown",
   "id": "84dc52aa-e7d0-48cd-8c9a-bab4c2f100db",
   "metadata": {},
   "source": [
    "It would be a good time to look at the distibution of data of some columns. It is a more accurate distribution of data once the duplicate and null values are properly dealt with in the dataset. We will be looking at 2 numeric and 2 categorical columns. For the numeric columns, it would be difficult to view the distribution after dealing with the null values as we may need to convert the data type to an object(`string`). This is why the distribution of data will be viewed prior to dealing with null values."
   ]
  },
  {
   "cell_type": "markdown",
   "id": "cf43342f-e457-4c38-9695-a3bde69ae90d",
   "metadata": {},
   "source": [
    "To view the distribution of the numeric columns, the frequency of the data will by plotted on histograms. The distribution for the numeric columns, `Lat` and `Lon`, are shown below."
   ]
  },
  {
   "cell_type": "code",
   "execution_count": 27,
   "id": "5b8eea9e-9089-46cf-8a92-b47a2bc80859",
   "metadata": {},
   "outputs": [
    {
     "data": {
      "image/png": "[encoded data removed]",
      "text/plain": [
       "<Figure size 1300x500 with 2 Axes>"
      ]
     },
     "metadata": {},
     "output_type": "display_data"
    }
   ],
   "source": [
    "# Creates subplots, one row, two columns (2 histogram plots)\n",
    "plt.subplots(1, 2, figsize = (13,5))\n",
    "\n",
    "# Histogram of the \"Lat\" column\n",
    "plt.subplot(1, 2, 1)\n",
    "plt.hist(mosquito_dfc['Lat'], bins = 25)\n",
    "plt.xlabel('Latitude')\n",
    "plt.ylabel('Frequency')\n",
    "plt.title('Distribution of Latitude Frequencies')\n",
    "plt.axvline(mosquito_dfc['Lat'].mean(),color = 'orange', label = 'mean')\n",
    "plt.axvline(mosquito_dfc['Lat'].median(),color = 'purple', label = 'median')\n",
    "plt.legend()\n",
    "\n",
    "# Histogram of the \"Lon\" column\n",
    "plt.subplot(1, 2, 2)\n",
    "plt.hist(mosquito_dfc['Lon'], bins = 25)\n",
    "plt.xlabel('Longitude')\n",
    "plt.ylabel('Frequency')\n",
    "plt.title('Distribution of Longitude Frequencies')\n",
    "plt.axvline(mosquito_dfc['Lon'].mean(),color = 'orange', label = 'mean')\n",
    "plt.axvline(mosquito_dfc['Lon'].median(),color = 'purple', label = 'median')\n",
    "plt.legend()\n",
    "\n",
    "# Makes sure there is no overlap in plots\n",
    "plt.tight_layout()\n",
    "\n",
    "# Shows the subplots\n",
    "plt.show()"
   ]
  },
  {
   "cell_type": "markdown",
   "id": "b1a11fee-3d4e-4f5e-8b01-2da0d9075b5d",
   "metadata": {},
   "source": [
    "The two numeric columns, `Lat` and `Lon`, store float values (decimals). The mean and median values were added to the histograms to assist in defining the distribution of the data. In the \"Distribution of Latitude Frequencies\", the mean is slightly less than the median. However, there are two peaks, one of the left side and one on the right. This would indicate a bimodal distribution. In the \"Distribution of Longitude Frequencies\", the mean and median values over lap. This would indicate a normal distribution. The bell-curve shape of the distribution also confirms there is a normal distribution of data."
   ]
  },
  {
   "cell_type": "markdown",
   "id": "eb8aef69-98de-4bf4-a03a-87185af9f403",
   "metadata": {},
   "source": [
    "When looking at the map, those `Lat` and `Lon` coordinates with the lower count are near Lake Michigan and those with the higher counts are more inland. An explanation may be that there are more people concentrated inland. A mosquito habitat is any place with standing water and people tend to create mosquito habitats by leaving things outside that can accumulate water."
   ]
  },
  {
   "cell_type": "markdown",
   "id": "86ba54fc-4b66-4269-9e21-16e37dc74b11",
   "metadata": {},
   "source": [
    "To view the distribution of the categorical columns, the frequency will be plotted on horizontal bar charts. The distribution for the categorical columns, `Trap type` and `Species`, are shown below.\n",
    "\n",
    "<a class=\"anchor\" id=\"trap-type-distribution\"></a>"
   ]
  },
  {
   "cell_type": "code",
   "execution_count": 28,
   "id": "1a144321-ff38-4e63-93b5-2a4d72bc81be",
   "metadata": {},
   "outputs": [
    {
     "data": {
      "image/png": "[encoded data removed]",
      "text/plain": [
       "<Figure size 1300x500 with 2 Axes>"
      ]
     },
     "metadata": {},
     "output_type": "display_data"
    }
   ],
   "source": [
    "# Creates subplots, one row, two columns (2 horizontal bar plots)\n",
    "plt.subplots(1, 2, figsize = (13,5))\n",
    "\n",
    "# Bar chart of the \"Trap type\" column\n",
    "plt.subplot(1, 2, 1)\n",
    "ax = mosquito_dfc['Trap type'].value_counts().plot.barh(edgecolor = 'black')\n",
    "\n",
    "# Bar chart of the \"Species\" column\n",
    "plt.subplot(1, 2, 2)\n",
    "bx = mosquito_dfc['Species'].value_counts().plot(kind = 'barh', edgecolor = 'black')\n",
    "\n",
    "# Update plot properties\n",
    "ax.set_xlabel('Frequency')\n",
    "ax.set_ylabel('Trap Type')\n",
    "ax.set_title('Distribution of Trap Type Frequencies')\n",
    "ax.set_xlim(0,19000)\n",
    "bx.set_xlabel('Frequency')\n",
    "bx.set_ylabel('Species')\n",
    "bx.set_title('Distribution of Species Frequencies')\n",
    "bx.set_xlim(0,13000)\n",
    "\n",
    "# Adds labels to the data bars\n",
    "ax.bar_label(ax.containers[0])\n",
    "bx.bar_label(bx.containers[0])\n",
    "\n",
    "# Reverse the y-axis order\n",
    "ax.invert_yaxis()\n",
    "bx.invert_yaxis()\n",
    "\n",
    "# Makes sure there is no overlap in plots\n",
    "plt.tight_layout()\n",
    "\n",
    "# Shows the subplots\n",
    "plt.show()"
   ]
  },
  {
   "cell_type": "markdown",
   "id": "f95b82e7-7d26-4d6e-a107-1c4c61bf9ab4",
   "metadata": {},
   "source": [
    "The two categorical columns, `Trap type` and `Species` , store string values. For `Trap type`, the frequency distribution is really skewed to one trap type, with about 96% of the trap type being `GRAVID`. For `Species`, the frequency distribution is skewed to the species, `CULEX RESTUANS`, with it accounting for about 64% of the species type. `CULEX PIPIENS` comes in second, accounting for about 30% of the species type. There were not many species of `CULEX TERRITANS` and `CULEX SALINARIUS` throughout the dataset."
   ]
  },
  {
   "cell_type": "markdown",
   "id": "4f3795ac-35f6-4735-b39c-992a9543e46a",
   "metadata": {},
   "source": [
    "### Null Values <a class=\"anchor\" id=\"null-values\"></a>"
   ]
  },
  {
   "cell_type": "markdown",
   "id": "31b37216-7736-4980-89c2-697e19b1fc5a",
   "metadata": {},
   "source": [
    "Now that we know the distibution of some of the columns of the dataset, the null values can be appropriately dealt with so they do not skew the data analysis. "
   ]
  },
  {
   "cell_type": "code",
   "execution_count": 29,
   "id": "764bd716",
   "metadata": {},
   "outputs": [
    {
     "data": {
      "text/plain": [
       "Year                  0\n",
       "Week                  0\n",
       "Address Block         0\n",
       "Trap                  0\n",
       "Trap type             0\n",
       "Date                  0\n",
       "Mosquito number       0\n",
       "WNV Present           0\n",
       "Species               0\n",
       "Lat                2266\n",
       "Lon                2266\n",
       "Month                 0\n",
       "dtype: int64"
      ]
     },
     "execution_count": 29,
     "metadata": {},
     "output_type": "execute_result"
    }
   ],
   "source": [
    "# Counts the number of null values in each column\n",
    "mosquito_dfc.isnull().sum()"
   ]
  },
  {
   "cell_type": "code",
   "execution_count": 30,
   "id": "afa9619b-9080-4a8c-994c-8bc872073fbc",
   "metadata": {},
   "outputs": [
    {
     "data": {
      "text/plain": [
       "Year               0.00000\n",
       "Week               0.00000\n",
       "Address Block      0.00000\n",
       "Trap               0.00000\n",
       "Trap type          0.00000\n",
       "Date               0.00000\n",
       "Mosquito number    0.00000\n",
       "WNV Present        0.00000\n",
       "Species            0.00000\n",
       "Lat                0.12704\n",
       "Lon                0.12704\n",
       "Month              0.00000\n",
       "dtype: float64"
      ]
     },
     "execution_count": 30,
     "metadata": {},
     "output_type": "execute_result"
    }
   ],
   "source": [
    "# Calculates the percentage of null values in each column\n",
    "round(mosquito_dfc.isnull().mean(), 5)"
   ]
  },
  {
   "cell_type": "markdown",
   "id": "8fa44e39-19e7-4408-818d-2ab62d7d82c8",
   "metadata": {},
   "source": [
    "Based on the calculations above, both the `Lat` and `Lon` columns contain 12.7% null values. There are many ways of dealing with null values, such as dropping those rows or imputing another value. For our purposes, we will impute another value because that data has information that we need in our analysis. `Lat` and `Lon` are coordinates that specify location. We should not input the value as `0` since that would indicate an incorrect coordinate. The best approach would be to find the unique addresses in `Address Block` that corresponds to the missing Lat / Lon values and use Google to help fill those in."
   ]
  },
  {
   "cell_type": "code",
   "execution_count": 31,
   "id": "4277904e-4869-411b-ae3e-6d5e2982f6b3",
   "metadata": {},
   "outputs": [
    {
     "data": {
      "text/plain": [
       "['100XX W OHARE AIRPORT',\n",
       " '4XX W 127TH',\n",
       " '100XX W OHARE',\n",
       " '81XX S ASHLAND',\n",
       " '79XX S CHICAGO',\n",
       " '98XX S AVENUE G',\n",
       " '65XX N OAK PARK AVE',\n",
       " '115XX S AVENUE L',\n",
       " '30XX S HOYNE',\n",
       " '43XX N ASHLAND']"
      ]
     },
     "execution_count": 31,
     "metadata": {},
     "output_type": "execute_result"
    }
   ],
   "source": [
    "# Finding unique addresses\n",
    "mosquito_dfc.loc[mosquito_dfc['Lat'].isnull(), 'Address Block'].unique().tolist()"
   ]
  },
  {
   "cell_type": "markdown",
   "id": "db289dea-bc3b-4ccc-8433-6cf71041b10d",
   "metadata": {},
   "source": [
    "The unique addresses are stated above. However, we see that there may be a duplicate address, `100XX W OHARE AIRPORT` and `100XX W OHARE`. It seems that the addresses are referring to the location of an airport. To maintain uniformity, we can replace all instances of `100XX W OHARE` with `100XX W OHARE AIRPORT`. "
   ]
  },
  {
   "cell_type": "code",
   "execution_count": 32,
   "id": "504a155d-00c2-4715-a249-f70d4e567899",
   "metadata": {},
   "outputs": [],
   "source": [
    "# Changes all instances of \"100XX W OHARE\" to \"100XX W OHARE AIRPORT\"\n",
    "mosquito_dfc.loc[mosquito_dfc['Address Block'] == '100XX W OHARE', 'Address Block'] = '100XX W OHARE AIRPORT'"
   ]
  },
  {
   "cell_type": "code",
   "execution_count": 33,
   "id": "f5650276-1441-4127-b5c1-8163842f417c",
   "metadata": {},
   "outputs": [
    {
     "data": {
      "text/plain": [
       "['100XX W OHARE AIRPORT',\n",
       " '4XX W 127TH',\n",
       " '81XX S ASHLAND',\n",
       " '79XX S CHICAGO',\n",
       " '98XX S AVENUE G',\n",
       " '65XX N OAK PARK AVE',\n",
       " '115XX S AVENUE L',\n",
       " '30XX S HOYNE',\n",
       " '43XX N ASHLAND']"
      ]
     },
     "execution_count": 33,
     "metadata": {},
     "output_type": "execute_result"
    }
   ],
   "source": [
    "# Checking unique addresses\n",
    "mosquito_dfc.loc[mosquito_dfc['Lat'].isnull(), 'Address Block'].unique().tolist()"
   ]
  },
  {
   "cell_type": "markdown",
   "id": "79a3c1f5-aae6-40c3-93e7-80d641c0b594",
   "metadata": {},
   "source": [
    "Now that we have all the unique addresses with no duplicates, we can go ahead and find the latitude and longitude coordinates of each address to impute it into the dataset."
   ]
  },
  {
   "cell_type": "code",
   "execution_count": 34,
   "id": "99876aa9-2e5c-45ef-b8ec-b68ba346329f",
   "metadata": {},
   "outputs": [],
   "source": [
    "# Latitude information for the addresses\n",
    "loc_lat = {'100XX W OHARE AIRPORT': 41.98034,\n",
    "           '4XX W 127TH': 41.66368,\n",
    "           '81XX S ASHLAND': 41.74666,\n",
    "           '79XX S CHICAGO': 41.75163,\n",
    "           '98XX S AVENUE G': 41.71788,\n",
    "           '65XX N OAK PARK AVE': 41.99934,\n",
    "           '115XX S AVENUE L': 41.68654,\n",
    "           '30XX S HOYNE': 41.83680,\n",
    "           '43XX N ASHLAND': 41.96002\n",
    "}"
   ]
  },
  {
   "cell_type": "code",
   "execution_count": 35,
   "id": "c11d8032-1786-4f22-adf0-7d2ab86e7aee",
   "metadata": {},
   "outputs": [],
   "source": [
    "# Longitude information for the addresses\n",
    "loc_lon = {'100XX W OHARE AIRPORT': -87.90897,\n",
    "           '4XX W 127TH': -87.63203,\n",
    "           '81XX S ASHLAND': -87.66375,\n",
    "           '79XX S CHICAGO': -87.58556,\n",
    "           '98XX S AVENUE G': -87.53166,\n",
    "           '65XX N OAK PARK AVE': -87.79564,\n",
    "           '115XX S AVENUE L': -87.53651,\n",
    "           '30XX S HOYNE': -87.67777,\n",
    "           '43XX N ASHLAND': -87.66938\n",
    "}"
   ]
  },
  {
   "cell_type": "code",
   "execution_count": 36,
   "id": "300cae84-8807-40af-b585-14c071428ad3",
   "metadata": {},
   "outputs": [],
   "source": [
    "# Imputing the latitude information\n",
    "mosquito_dfc['Lat'] = mosquito_dfc['Lat'].fillna(mosquito_dfc['Address Block'].apply(lambda x: loc_lat.get(x)))\n",
    "\n",
    "# Imputing the longitude information\n",
    "mosquito_dfc['Lon'] = mosquito_dfc['Lon'].fillna(mosquito_dfc['Address Block'].apply(lambda x: loc_lon.get(x)))"
   ]
  },
  {
   "cell_type": "markdown",
   "id": "b41b8541-24a9-47ec-94b8-a8e708930d0d",
   "metadata": {},
   "source": [
    "The latitude and longitude values should have been imputed into the dataset. We can check to make sure that it the case."
   ]
  },
  {
   "cell_type": "code",
   "execution_count": 37,
   "id": "16139467-01f6-4beb-8a8a-5f3f5fe10f06",
   "metadata": {},
   "outputs": [
    {
     "data": {
      "text/plain": [
       "Year               0\n",
       "Week               0\n",
       "Address Block      0\n",
       "Trap               0\n",
       "Trap type          0\n",
       "Date               0\n",
       "Mosquito number    0\n",
       "WNV Present        0\n",
       "Species            0\n",
       "Lat                0\n",
       "Lon                0\n",
       "Month              0\n",
       "dtype: int64"
      ]
     },
     "execution_count": 37,
     "metadata": {},
     "output_type": "execute_result"
    }
   ],
   "source": [
    "# Checking to make sure there are no more NaN values\n",
    "mosquito_dfc.isnull().sum()"
   ]
  },
  {
   "cell_type": "markdown",
   "id": "e612e9e7-2feb-405f-94dc-acc79c04b9e5",
   "metadata": {},
   "source": [
    "The data cleaning and preparation are done. We can do a final check on the dataset."
   ]
  },
  {
   "cell_type": "code",
   "execution_count": 38,
   "id": "9a5f2bfd-0fd1-466d-889a-18038fbce3f0",
   "metadata": {},
   "outputs": [
    {
     "name": "stdout",
     "output_type": "stream",
     "text": [
      "There are 17837 rows and 12 columns.\n"
     ]
    }
   ],
   "source": [
    "# Counts the number of rows and columns in the dataset\n",
    "print(f'There are {mosquito_dfc.shape[0]} rows and {mosquito_dfc.shape[1]} columns.')"
   ]
  },
  {
   "cell_type": "code",
   "execution_count": 39,
   "id": "f6705f2a-9594-485f-848b-fdeacc002c0f",
   "metadata": {},
   "outputs": [
    {
     "name": "stdout",
     "output_type": "stream",
     "text": [
      "<class 'pandas.core.frame.DataFrame'>\n",
      "Int64Index: 17837 entries, 0 to 18493\n",
      "Data columns (total 12 columns):\n",
      " #   Column           Non-Null Count  Dtype         \n",
      "---  ------           --------------  -----         \n",
      " 0   Year             17837 non-null  int64         \n",
      " 1   Week             17837 non-null  int64         \n",
      " 2   Address Block    17837 non-null  object        \n",
      " 3   Trap             17837 non-null  object        \n",
      " 4   Trap type        17837 non-null  object        \n",
      " 5   Date             17837 non-null  datetime64[ns]\n",
      " 6   Mosquito number  17837 non-null  int64         \n",
      " 7   WNV Present      17837 non-null  object        \n",
      " 8   Species          17837 non-null  object        \n",
      " 9   Lat              17837 non-null  float64       \n",
      " 10  Lon              17837 non-null  float64       \n",
      " 11  Month            17837 non-null  category      \n",
      "dtypes: category(1), datetime64[ns](1), float64(2), int64(3), object(5)\n",
      "memory usage: 1.7+ MB\n"
     ]
    }
   ],
   "source": [
    "# Checking the information about the dataframe\n",
    "mosquito_dfc.info()"
   ]
  },
  {
   "cell_type": "markdown",
   "id": "ae197caf-779c-40f1-b52d-1ab0a896ef9f",
   "metadata": {},
   "source": [
    "[[Back to top]](#toc)"
   ]
  },
  {
   "cell_type": "markdown",
   "id": "ffa14274-f16f-47df-97e8-af8cb006e836",
   "metadata": {},
   "source": [
    "***"
   ]
  },
  {
   "cell_type": "markdown",
   "id": "700c6c11",
   "metadata": {},
   "source": [
    "## Exploratory Data Analysis (EDA) <a class=\"anchor\" id=\"exploratory-data-analysis-eda\"></a>"
   ]
  },
  {
   "cell_type": "markdown",
   "id": "8bc81516-6b04-4911-b988-14ef7ad68fcf",
   "metadata": {},
   "source": [
    "The dataset is now cleaned and ready for EDA."
   ]
  },
  {
   "cell_type": "markdown",
   "id": "f2847709-01a7-43cc-8dd4-4c6df4da7f22",
   "metadata": {},
   "source": [
    "#### Number of Mosquitoes by Date <a class=\"anchor\" id=\"number-of-mosquitoes-by-date\"></a>"
   ]
  },
  {
   "cell_type": "markdown",
   "id": "51b96324-a801-49c4-8d1b-0f0d0a3f90f2",
   "metadata": {},
   "source": [
    "First, we'll explore the relationship between `Mosquito number` and `Date`. To do that, we want to sum up the number of mosquitoes by both the `Year` and `Month` columns to see if there is a trend."
   ]
  },
  {
   "cell_type": "code",
   "execution_count": 41,
   "id": "a9f442b5-187c-442e-95fc-5358e40e2a6b",
   "metadata": {},
   "outputs": [
    {
     "data": {
      "text/plain": [
       "Year\n",
       "2007    24156\n",
       "2008     3882\n",
       "2009     5462\n",
       "2010     7363\n",
       "2011     7256\n",
       "2012    10703\n",
       "2013    22855\n",
       "2014    29767\n",
       "2015    10332\n",
       "2016    32454\n",
       "2017     9104\n",
       "2018    13364\n",
       "2019     9856\n",
       "Name: Mosquito number, dtype: int64"
      ]
     },
     "execution_count": 41,
     "metadata": {},
     "output_type": "execute_result"
    }
   ],
   "source": [
    "# Grouping by year to get the total number of mosquitoes for each year\n",
    "dfc_year = mosquito_dfc.groupby('Year')['Mosquito number'].sum()\n",
    "dfc_year"
   ]
  },
  {
   "cell_type": "code",
   "execution_count": 42,
   "id": "30419939-2214-485e-8ebc-12a86042d6e3",
   "metadata": {},
   "outputs": [
    {
     "data": {
      "text/plain": [
       "Month\n",
       "May            116\n",
       "June         27760\n",
       "July         54338\n",
       "August       75601\n",
       "September    27529\n",
       "October       1210\n",
       "Name: Mosquito number, dtype: int64"
      ]
     },
     "execution_count": 42,
     "metadata": {},
     "output_type": "execute_result"
    }
   ],
   "source": [
    "# Grouping by month to get the total number of mosquitoes for each month\n",
    "dfc_month = mosquito_dfc.groupby('Month')['Mosquito number'].sum()\n",
    "dfc_month"
   ]
  },
  {
   "cell_type": "markdown",
   "id": "892c54ce-e9f6-4b11-80cd-1bcb18538978",
   "metadata": {},
   "source": [
    "The data is ready to visualize to see if there are trends by either year and/or month. We will be using bar charts to visualize the data."
   ]
  },
  {
   "cell_type": "code",
   "execution_count": 43,
   "id": "056aed18-82ee-415b-85fa-f5855e18baa4",
   "metadata": {},
   "outputs": [
    {
     "data": {
      "image/png": "[encoded data removed]",
      "text/plain": [
       "<Figure size 1500x500 with 2 Axes>"
      ]
     },
     "metadata": {},
     "output_type": "display_data"
    }
   ],
   "source": [
    "# Creates subplots, one row, two columns (2 bar charts)\n",
    "plt.subplots(1, 2, figsize = (15,5))\n",
    "\n",
    "# Bar chart of the total number of mosquitoes by the year\n",
    "plt.subplot(1, 2, 1) \n",
    "ax = dfc_year.plot.bar(x = 'Year', y = 'Mosquito number', edgecolor = 'black')\n",
    "\n",
    "# Bar chart of the total number of mosquitoes by the month\n",
    "plt.subplot(1, 2, 2) \n",
    "my_colors = ['tab:blue', 'tab:blue', 'tab:orange', 'tab:orange', 'tab:blue', 'tab:blue']\n",
    "bx = dfc_month.plot.bar(x = 'Month', y = 'Mosquito number', color = my_colors, edgecolor = 'black')\n",
    "\n",
    "# Update plot properties\n",
    "ax.set_xlabel('Year')\n",
    "ax.set_ylabel('Number of Mosquitoes')\n",
    "ax.set_title('Number of Mosquitoes by Year')\n",
    "ax.set_xticklabels(ax.get_xticklabels(), rotation = 45)\n",
    "ax.set_ylim(0, 35000)\n",
    "bx.set_xlabel('Month')\n",
    "bx.set_ylabel('Number of Mosquitoes')\n",
    "bx.set_title('Number of Mosquitoes by Month')\n",
    "bx.set_xticklabels(bx.get_xticklabels(), rotation = 45)\n",
    "bx.set_ylim(0, 80000)\n",
    "\n",
    "# Adds labels to the data bars\n",
    "ax.bar_label(ax.containers[0], size = 11)\n",
    "bx.bar_label(bx.containers[0], size = 11)\n",
    "\n",
    "# Makes sure there is no overlap in plots\n",
    "plt.tight_layout()\n",
    "\n",
    "# Shows the plots\n",
    "plt.show()"
   ]
  },
  {
   "cell_type": "markdown",
   "id": "63ff0f1d-6e02-4188-b5ac-bb2f74566af8",
   "metadata": {},
   "source": [
    "In the plot, \"Number of Mosquitoes by Year\", there were a few years where the total number of mosquitoes were high (2007, 2013, 2014, and 2016). There is no obvious trend that can be seen when grouped by year. However, in the plot, \"Number of Mosquitoes by Month\", **there are more mosquitoes caught in July and August** than the other months. August accounts for 41% and July accounts for 29% of the total number of mosquitoes caught from the period of 2017-2019. Mosquito season slowly starts late spring and lasts until early fall and they are most active in the warmest summer months. This pattern can be seen in the \"Number of Mosquitoes by Month\" plot."
   ]
  },
  {
   "cell_type": "markdown",
   "id": "d1f9d427-be22-42fb-9f9e-6f90e0edf29f",
   "metadata": {},
   "source": [
    "#### WNV Prevalence by Species <a class=\"anchor\" id=\"wnv-prevalence-by-species\"></a>"
   ]
  },
  {
   "cell_type": "markdown",
   "id": "c0ddc190-22f5-4ad7-8f2f-6ea42519e534",
   "metadata": {},
   "source": [
    "Next, we want to explore the relationship between whether WNV was present or absent and `Species`. First, we'll do some calculations and see if we can uncover any insights. Then, we'll visualize the data by creating a grouped bar chart. On this chart, each bar on the x-axis represents a distinct mosquito species, while the y-axis denotes the count of occurrences. The presence or absence of WNV will be distinguished by two distinct colors, allowing for a clear comparison between the two conditions."
   ]
  },
  {
   "cell_type": "code",
   "execution_count": 44,
   "id": "26ca3afa-4efd-4238-bb54-2b701e6917f6",
   "metadata": {},
   "outputs": [
    {
     "data": {
      "text/html": [
       "<div>\n",
       "<style scoped>\n",
       "    .dataframe tbody tr th:only-of-type {\n",
       "        vertical-align: middle;\n",
       "    }\n",
       "\n",
       "    .dataframe tbody tr th {\n",
       "        vertical-align: top;\n",
       "    }\n",
       "\n",
       "    .dataframe thead th {\n",
       "        text-align: right;\n",
       "    }\n",
       "</style>\n",
       "<table border=\"1\" class=\"dataframe\">\n",
       "  <thead>\n",
       "    <tr style=\"text-align: right;\">\n",
       "      <th>WNV Present</th>\n",
       "      <th>negative</th>\n",
       "      <th>positive</th>\n",
       "    </tr>\n",
       "    <tr>\n",
       "      <th>Species</th>\n",
       "      <th></th>\n",
       "      <th></th>\n",
       "    </tr>\n",
       "  </thead>\n",
       "  <tbody>\n",
       "    <tr>\n",
       "      <th>CULEX PIPIENS</th>\n",
       "      <td>4074</td>\n",
       "      <td>1237</td>\n",
       "    </tr>\n",
       "    <tr>\n",
       "      <th>CULEX RESTUANS</th>\n",
       "      <td>9309</td>\n",
       "      <td>2078</td>\n",
       "    </tr>\n",
       "    <tr>\n",
       "      <th>CULEX SALINARIUS</th>\n",
       "      <td>215</td>\n",
       "      <td>7</td>\n",
       "    </tr>\n",
       "    <tr>\n",
       "      <th>CULEX TERRITANS</th>\n",
       "      <td>903</td>\n",
       "      <td>14</td>\n",
       "    </tr>\n",
       "  </tbody>\n",
       "</table>\n",
       "</div>"
      ],
      "text/plain": [
       "WNV Present       negative  positive\n",
       "Species                             \n",
       "CULEX PIPIENS         4074      1237\n",
       "CULEX RESTUANS        9309      2078\n",
       "CULEX SALINARIUS       215         7\n",
       "CULEX TERRITANS        903        14"
      ]
     },
     "execution_count": 44,
     "metadata": {},
     "output_type": "execute_result"
    }
   ],
   "source": [
    "# Calculates the occurrences by Species and WNV presence\n",
    "species_wnv = mosquito_dfc[['Species', 'WNV Present']]\n",
    "species_wnv_counts = species_wnv.groupby(['Species', 'WNV Present'])['Species'].size().unstack()\n",
    "species_wnv_counts"
   ]
  },
  {
   "cell_type": "code",
   "execution_count": 45,
   "id": "93ee9233-92c1-4269-af41-4eaaffe95502",
   "metadata": {},
   "outputs": [],
   "source": [
    "# Total count of occurrences by WNV presence\n",
    "count_by_wnv = species_wnv.groupby('WNV Present')['Species'].size()\n",
    "f_count_by_wnv = count_by_wnv.reset_index(name = 'Count')\n",
    "\n",
    "# Total count of occurrences by Species\n",
    "species_counts = species_wnv.groupby('Species').size()\n",
    "f_species_counts = species_counts.reset_index(name = 'Count')\n",
    "\n",
    "# Calculates the percentage of WNV presence per species\n",
    "wnv_presence_percentage = round((species_wnv_counts['positive'] / species_counts), 4).reset_index(name = '% WNV')"
   ]
  },
  {
   "cell_type": "code",
   "execution_count": 46,
   "id": "a9d15753-83e9-4a51-8bc3-a966115d0f80",
   "metadata": {},
   "outputs": [
    {
     "data": {
      "image/png": "[encoded data removed]",
      "text/plain": [
       "<Figure size 1000x400 with 1 Axes>"
      ]
     },
     "metadata": {},
     "output_type": "display_data"
    },
    {
     "data": {
      "text/html": [
       "<div>\n",
       "<style scoped>\n",
       "    .dataframe tbody tr th:only-of-type {\n",
       "        vertical-align: middle;\n",
       "    }\n",
       "\n",
       "    .dataframe tbody tr th {\n",
       "        vertical-align: top;\n",
       "    }\n",
       "\n",
       "    .dataframe thead th {\n",
       "        text-align: right;\n",
       "    }\n",
       "</style>\n",
       "<table border=\"1\" class=\"dataframe\">\n",
       "  <thead>\n",
       "    <tr style=\"text-align: right;\">\n",
       "      <th></th>\n",
       "      <th>WNV Present</th>\n",
       "      <th>Count</th>\n",
       "    </tr>\n",
       "  </thead>\n",
       "  <tbody>\n",
       "    <tr>\n",
       "      <th>0</th>\n",
       "      <td>negative</td>\n",
       "      <td>14501</td>\n",
       "    </tr>\n",
       "    <tr>\n",
       "      <th>1</th>\n",
       "      <td>positive</td>\n",
       "      <td>3336</td>\n",
       "    </tr>\n",
       "  </tbody>\n",
       "</table>\n",
       "</div>"
      ],
      "text/plain": [
       "  WNV Present  Count\n",
       "0    negative  14501\n",
       "1    positive   3336"
      ]
     },
     "metadata": {},
     "output_type": "display_data"
    },
    {
     "data": {
      "text/html": [
       "<div>\n",
       "<style scoped>\n",
       "    .dataframe tbody tr th:only-of-type {\n",
       "        vertical-align: middle;\n",
       "    }\n",
       "\n",
       "    .dataframe tbody tr th {\n",
       "        vertical-align: top;\n",
       "    }\n",
       "\n",
       "    .dataframe thead th {\n",
       "        text-align: right;\n",
       "    }\n",
       "</style>\n",
       "<table border=\"1\" class=\"dataframe\">\n",
       "  <thead>\n",
       "    <tr style=\"text-align: right;\">\n",
       "      <th></th>\n",
       "      <th>Species</th>\n",
       "      <th>Count</th>\n",
       "    </tr>\n",
       "  </thead>\n",
       "  <tbody>\n",
       "    <tr>\n",
       "      <th>0</th>\n",
       "      <td>CULEX PIPIENS</td>\n",
       "      <td>5311</td>\n",
       "    </tr>\n",
       "    <tr>\n",
       "      <th>1</th>\n",
       "      <td>CULEX RESTUANS</td>\n",
       "      <td>11387</td>\n",
       "    </tr>\n",
       "    <tr>\n",
       "      <th>2</th>\n",
       "      <td>CULEX SALINARIUS</td>\n",
       "      <td>222</td>\n",
       "    </tr>\n",
       "    <tr>\n",
       "      <th>3</th>\n",
       "      <td>CULEX TERRITANS</td>\n",
       "      <td>917</td>\n",
       "    </tr>\n",
       "  </tbody>\n",
       "</table>\n",
       "</div>"
      ],
      "text/plain": [
       "            Species  Count\n",
       "0     CULEX PIPIENS   5311\n",
       "1    CULEX RESTUANS  11387\n",
       "2  CULEX SALINARIUS    222\n",
       "3   CULEX TERRITANS    917"
      ]
     },
     "metadata": {},
     "output_type": "display_data"
    },
    {
     "data": {
      "text/html": [
       "<div>\n",
       "<style scoped>\n",
       "    .dataframe tbody tr th:only-of-type {\n",
       "        vertical-align: middle;\n",
       "    }\n",
       "\n",
       "    .dataframe tbody tr th {\n",
       "        vertical-align: top;\n",
       "    }\n",
       "\n",
       "    .dataframe thead th {\n",
       "        text-align: right;\n",
       "    }\n",
       "</style>\n",
       "<table border=\"1\" class=\"dataframe\">\n",
       "  <thead>\n",
       "    <tr style=\"text-align: right;\">\n",
       "      <th></th>\n",
       "      <th>Species</th>\n",
       "      <th>% WNV</th>\n",
       "    </tr>\n",
       "  </thead>\n",
       "  <tbody>\n",
       "    <tr>\n",
       "      <th>0</th>\n",
       "      <td>CULEX PIPIENS</td>\n",
       "      <td>0.2329</td>\n",
       "    </tr>\n",
       "    <tr>\n",
       "      <th>1</th>\n",
       "      <td>CULEX RESTUANS</td>\n",
       "      <td>0.1825</td>\n",
       "    </tr>\n",
       "    <tr>\n",
       "      <th>2</th>\n",
       "      <td>CULEX SALINARIUS</td>\n",
       "      <td>0.0315</td>\n",
       "    </tr>\n",
       "    <tr>\n",
       "      <th>3</th>\n",
       "      <td>CULEX TERRITANS</td>\n",
       "      <td>0.0153</td>\n",
       "    </tr>\n",
       "  </tbody>\n",
       "</table>\n",
       "</div>"
      ],
      "text/plain": [
       "            Species   % WNV\n",
       "0     CULEX PIPIENS  0.2329\n",
       "1    CULEX RESTUANS  0.1825\n",
       "2  CULEX SALINARIUS  0.0315\n",
       "3   CULEX TERRITANS  0.0153"
      ]
     },
     "metadata": {},
     "output_type": "display_data"
    }
   ],
   "source": [
    "# Create figure\n",
    "plt.figure(figsize = (10, 4))\n",
    "\n",
    "# Bar chart by Species and WNV presence\n",
    "ax = sns.countplot(y = 'Species', hue = 'WNV Present', data = species_wnv, edgecolor = 'black',\n",
    "              order = ['CULEX RESTUANS', 'CULEX PIPIENS', 'CULEX TERRITANS', 'CULEX SALINARIUS'])\n",
    "\n",
    "# Update plot properties\n",
    "ax.set_title('Species vs. WNV Presence')\n",
    "ax.set_xlabel('Count')\n",
    "ax.set_ylabel('Mosquito Species')\n",
    "ax.legend(title = 'WNV Presence', loc = 'lower right')\n",
    "\n",
    "# Add labels to the bars at the end\n",
    "label_offset = 20\n",
    "for p in ax.patches:\n",
    "    width = p.get_width()\n",
    "    height = p.get_height()\n",
    "    x, y = p.get_xy() \n",
    "    ax.annotate(f'{int(width)}', (width + label_offset, y + height/2), \n",
    "                ha = 'left', va = 'center', fontsize = 10, color = 'black')\n",
    "\n",
    "# Shows plot\n",
    "plt.show()\n",
    "\n",
    "# Printed the results of the calculations from above for easier viewing\n",
    "display(f_count_by_wnv)\n",
    "display(f_species_counts)\n",
    "display(wnv_presence_percentage)"
   ]
  },
  {
   "cell_type": "markdown",
   "id": "2d404c9c-7514-4aa4-8c46-18a6a2feaada",
   "metadata": {},
   "source": [
    "In examining the presence and absence of WNV, it becomes evident that a significant majority of mosquitoes captured do not carry the virus. This trend persists across various mosquito species. Notably, while the `CULEX RESTUANS` species tops the charts in terms of numbers of occurrences with WNV, this is influenced by its overall prevalence in the dataset. Upon closer inspection, it's `CULEX PIPIENS` that is the species with the highest likelihood of carrying WNV when considering the ratio of infected mosquitoes to total occurrences. Thus, while `CULEX RESTUANS` has more occurrences, it's **`CULEX PIPIENS` that presents the highest probability of WNV transmission**."
   ]
  },
  {
   "cell_type": "markdown",
   "id": "1511a88e-2762-44fa-afa6-2e03664cf2b5",
   "metadata": {},
   "source": [
    "#### Number of Mosquitoes by Trap Type <a class=\"anchor\" id=\"number-of-mosquitoes-by-trap-type\"></a>"
   ]
  },
  {
   "cell_type": "markdown",
   "id": "7c3676b8-8114-49b3-8cfe-a5e80e9a6b8f",
   "metadata": {},
   "source": [
    "Next, we will be exploring the relationship between the number of mosquitoes and the trap type. To do that, we need to group the data by `Trap type` and sum up the `Mosquito number` for each group. It will also be interesting to see how efficient each trap type is."
   ]
  },
  {
   "cell_type": "code",
   "execution_count": 47,
   "id": "76e7e660-7f5f-405f-9a7d-e856dcc8f5aa",
   "metadata": {},
   "outputs": [
    {
     "data": {
      "text/html": [
       "<div>\n",
       "<style scoped>\n",
       "    .dataframe tbody tr th:only-of-type {\n",
       "        vertical-align: middle;\n",
       "    }\n",
       "\n",
       "    .dataframe tbody tr th {\n",
       "        vertical-align: top;\n",
       "    }\n",
       "\n",
       "    .dataframe thead th {\n",
       "        text-align: right;\n",
       "    }\n",
       "</style>\n",
       "<table border=\"1\" class=\"dataframe\">\n",
       "  <thead>\n",
       "    <tr style=\"text-align: right;\">\n",
       "      <th></th>\n",
       "      <th>Mosquito number</th>\n",
       "    </tr>\n",
       "    <tr>\n",
       "      <th>Trap type</th>\n",
       "      <th></th>\n",
       "    </tr>\n",
       "  </thead>\n",
       "  <tbody>\n",
       "    <tr>\n",
       "      <th>OVI</th>\n",
       "      <td>1</td>\n",
       "    </tr>\n",
       "    <tr>\n",
       "      <th>SENTINEL</th>\n",
       "      <td>5134</td>\n",
       "    </tr>\n",
       "    <tr>\n",
       "      <th>CDC</th>\n",
       "      <td>9514</td>\n",
       "    </tr>\n",
       "    <tr>\n",
       "      <th>GRAVID</th>\n",
       "      <td>171905</td>\n",
       "    </tr>\n",
       "  </tbody>\n",
       "</table>\n",
       "</div>"
      ],
      "text/plain": [
       "           Mosquito number\n",
       "Trap type                 \n",
       "OVI                      1\n",
       "SENTINEL              5134\n",
       "CDC                   9514\n",
       "GRAVID              171905"
      ]
     },
     "execution_count": 47,
     "metadata": {},
     "output_type": "execute_result"
    }
   ],
   "source": [
    "# Groups the data by \"Trap type\" and sums the mosquito number per \"Trap type\"\n",
    "trap_type_sum = mosquito_dfc.groupby('Trap type')['Mosquito number'].sum()\n",
    "\n",
    "# Reorder the categories\n",
    "desired_order = ['OVI', 'SENTINEL', 'CDC', 'GRAVID']\n",
    "trap_type_sum = trap_type_sum.reindex(desired_order)\n",
    "\n",
    "# Place in a dataframe\n",
    "trap_type_sum.to_frame()"
   ]
  },
  {
   "cell_type": "code",
   "execution_count": 48,
   "id": "044fe96c-55f3-419e-88b1-295706151062",
   "metadata": {},
   "outputs": [],
   "source": [
    "# Total number of traps for each trap type\n",
    "trap_type_count = mosquito_dfc['Trap type'].value_counts()\n",
    "\n",
    "# Calculate the average number of mosquitoes caught per trap for each trap type\n",
    "trap_efficiency = round((trap_type_sum / trap_type_count), 3).reset_index(name = 'Trap Efficiency').rename(columns = {'index': 'Trap Type'})"
   ]
  },
  {
   "cell_type": "markdown",
   "id": "1d58ab5b-fd96-4143-850c-0bf2374805e3",
   "metadata": {},
   "source": [
    "The data is now ready to be plotted. We will be using a horizontal bar chart to visualize the data."
   ]
  },
  {
   "cell_type": "code",
   "execution_count": 60,
   "id": "a07e4db6-2fb1-4c82-ba33-ead14ea555a2",
   "metadata": {},
   "outputs": [
    {
     "data": {
      "image/png": "[encoded data removed]",
      "text/plain": [
       "<Figure size 600x700 with 2 Axes>"
      ]
     },
     "metadata": {},
     "output_type": "display_data"
    },
    {
     "data": {
      "text/html": [
       "<div>\n",
       "<style scoped>\n",
       "    .dataframe tbody tr th:only-of-type {\n",
       "        vertical-align: middle;\n",
       "    }\n",
       "\n",
       "    .dataframe tbody tr th {\n",
       "        vertical-align: top;\n",
       "    }\n",
       "\n",
       "    .dataframe thead th {\n",
       "        text-align: right;\n",
       "    }\n",
       "</style>\n",
       "<table border=\"1\" class=\"dataframe\">\n",
       "  <thead>\n",
       "    <tr style=\"text-align: right;\">\n",
       "      <th></th>\n",
       "      <th>Trap Type</th>\n",
       "      <th>Trap Efficiency</th>\n",
       "    </tr>\n",
       "  </thead>\n",
       "  <tbody>\n",
       "    <tr>\n",
       "      <th>0</th>\n",
       "      <td>CDC</td>\n",
       "      <td>17.985</td>\n",
       "    </tr>\n",
       "    <tr>\n",
       "      <th>1</th>\n",
       "      <td>GRAVID</td>\n",
       "      <td>10.054</td>\n",
       "    </tr>\n",
       "    <tr>\n",
       "      <th>2</th>\n",
       "      <td>OVI</td>\n",
       "      <td>1.000</td>\n",
       "    </tr>\n",
       "    <tr>\n",
       "      <th>3</th>\n",
       "      <td>SENTINEL</td>\n",
       "      <td>24.565</td>\n",
       "    </tr>\n",
       "  </tbody>\n",
       "</table>\n",
       "</div>"
      ],
      "text/plain": [
       "  Trap Type  Trap Efficiency\n",
       "0       CDC           17.985\n",
       "1    GRAVID           10.054\n",
       "2       OVI            1.000\n",
       "3  SENTINEL           24.565"
      ]
     },
     "execution_count": 60,
     "metadata": {},
     "output_type": "execute_result"
    }
   ],
   "source": [
    "# Creates subplots, two rows, one columns (2 bar charts)\n",
    "plt.subplots(2, 1, figsize = (6, 7))\n",
    "\n",
    "# Horizontal bar chart of Number of Mosquitoes by Trap Type\n",
    "plt.subplot(2, 1, 1)\n",
    "my_colors = ['tab:red', 'tab:green', 'tab:orange', 'tab:blue']\n",
    "ax = trap_type_sum.plot.barh(x = 'Trap Type', y = 'Mosquito number', color = my_colors, edgecolor = 'black')\n",
    "\n",
    "# Box plot of Number of Mosquitoes by Trap Type\n",
    "plt.subplot(2, 1, 2)\n",
    "desired_order = ['GRAVID', 'CDC', 'SENTINEL', 'OVI']\n",
    "bx = sns.boxplot(data = mosquito_dfc, x = 'Mosquito number', y = 'Trap type', order = desired_order)\n",
    "\n",
    "# Update plot properties\n",
    "ax.set_xlabel('Number of Mosquitoes')\n",
    "ax.set_ylabel('Trap Type')\n",
    "ax.set_title('Number of Mosquitoes by Trap Type')\n",
    "ax.set_xlim(0,195000)\n",
    "bx.set_title('Distribution of Mosquito Number by Trap Type')\n",
    "\n",
    "# Adds labels to the data bars\n",
    "ax.bar_label(ax.containers[0])\n",
    "\n",
    "# Add median labels to the plot\n",
    "medians = mosquito_dfc.groupby('Trap type')['Mosquito number'].median()\n",
    "vertical_offset = mosquito_dfc['Mosquito number'].median() * 0.05 \n",
    "\n",
    "# Iterate over the desired order\n",
    "for i, trap_type in enumerate(desired_order):\n",
    "    median_value = int(medians[trap_type])  # Convert median value to integer\n",
    "    bx.text(median_value + vertical_offset, i, f'{median_value}', \n",
    "            horizontalalignment='left', size='medium', color='black')\n",
    "\n",
    "# Makes sure there is no overlap in plots\n",
    "plt.tight_layout()\n",
    "\n",
    "# Shows the subplots\n",
    "plt.show()\n",
    "\n",
    "# Printed the results of the calculations from above for easier viewing\n",
    "trap_efficiency"
   ]
  },
  {
   "cell_type": "markdown",
   "id": "ee16c6fd-4872-4e29-a79c-47972b2250a8",
   "metadata": {},
   "source": [
    "| Trap Type | Description|\n",
    "| :-: | :- |\n",
    "| SENTINEL | Mimics the motions and chemicals produced by<br>humans.\n",
    "| OVI | Short for Oviposition. Mimics breeding site for<br>female mosquitoes.\n",
    "| GRAVID | Trap is baited with aged organic material-filled<br>water to attract female mosquitoes for egg laying.\n",
    "| CDC | Light is used to attract mosquitoes."
   ]
  },
  {
   "cell_type": "markdown",
   "id": "5d2c6038-615f-4366-b219-c58b6d4ce023",
   "metadata": {},
   "source": [
    "In the horizontal bar chart, it's evident that the `GRAVID` trap type captures the most mosquitoes than the others, accounting for approximately 92% of all mosquitoes captured. Despite its prevalence, the trap type boasting the highest efficiency in mosquito capture is the `SENTINEL`, accounting for 25% of the total catch. This disparity in effectiveness could be attributed to the overwhelming use of `GRAVID` traps, constituting roughly 96% of all traps deployed ([as indicated in the distribution chart](#trap-type-distribution)). Examining the box plot, we observe that the `SENTINEL` trap type exhibits a median of 20, indicative of its consistent capture of a greater number of mosquitoes (exceeding 20) across multiple instances. Conversely, the `GRAVID` trap type presents a median of 4, suggesting it captures fewer mosquitoes in a single instance compared to the `SENTINEL`. Further insight from the accompanying table detailing each trap type sheds light on why `SENTINEL` traps excel in single-capture scenarios."
   ]
  },
  {
   "cell_type": "markdown",
   "id": "743828bf-ba3a-4003-89c6-a75ccd41c5a9",
   "metadata": {},
   "source": [
    "### Number of Mosquitoes by Number of Traps and WNV Prevalence per Year <a class=\"anchor\" id=\"mosquitoes-by-traps-and-wnv-per-year\"></a>"
   ]
  },
  {
   "cell_type": "markdown",
   "id": "b5a2a4aa-cb06-4c6b-99e3-eeec2eee4b5a",
   "metadata": {},
   "source": [
    "Another relationship we want to explore is the number of mosquitoes compared to the number of traps per year. We can assess how effectively traps are capturing mosquitoes. A higher number of observations relative to the number of mosquitoes may indicate a higher trapping success rate. We can also explore WNV prevalence per year. These two explorations could reveal patterns in mosquito activity and disease transmission.\n",
    "\n",
    "First, we want to sum the number of mosquitoes and count the number of traps by year. We can also create a column that represents the ratio of mosquitoes to observations for each year. This ratio provides insight into the density of mosquitoes relative to the frequency of observations in the given year. A higher ratio indicates a higher density of mosquitoes per observation, while a lower ratio indicates a lower density.\n",
    "\n",
    "For WNV prevalence, we will calculate the total number of mosquitoes per year by presence of WNV. We will also include a column that calculates the percentage of absence or presence of WNV of the total number of mosquitoes per year."
   ]
  },
  {
   "cell_type": "code",
   "execution_count": 50,
   "id": "bf0437cd-c5f9-4f1a-8312-8ea84717555f",
   "metadata": {},
   "outputs": [
    {
     "data": {
      "text/html": [
       "<div>\n",
       "<style scoped>\n",
       "    .dataframe tbody tr th:only-of-type {\n",
       "        vertical-align: middle;\n",
       "    }\n",
       "\n",
       "    .dataframe tbody tr th {\n",
       "        vertical-align: top;\n",
       "    }\n",
       "\n",
       "    .dataframe thead th {\n",
       "        text-align: right;\n",
       "    }\n",
       "</style>\n",
       "<table border=\"1\" class=\"dataframe\">\n",
       "  <thead>\n",
       "    <tr style=\"text-align: right;\">\n",
       "      <th></th>\n",
       "      <th>Total Mosquitoes</th>\n",
       "      <th>Total Observations</th>\n",
       "      <th>Mosquitoes to Observations Ratio</th>\n",
       "    </tr>\n",
       "    <tr>\n",
       "      <th>Year</th>\n",
       "      <th></th>\n",
       "      <th></th>\n",
       "      <th></th>\n",
       "    </tr>\n",
       "  </thead>\n",
       "  <tbody>\n",
       "    <tr>\n",
       "      <th>2007</th>\n",
       "      <td>24156</td>\n",
       "      <td>2106</td>\n",
       "      <td>11.470</td>\n",
       "    </tr>\n",
       "    <tr>\n",
       "      <th>2008</th>\n",
       "      <td>3882</td>\n",
       "      <td>984</td>\n",
       "      <td>3.945</td>\n",
       "    </tr>\n",
       "    <tr>\n",
       "      <th>2009</th>\n",
       "      <td>5462</td>\n",
       "      <td>1129</td>\n",
       "      <td>4.838</td>\n",
       "    </tr>\n",
       "    <tr>\n",
       "      <th>2010</th>\n",
       "      <td>7363</td>\n",
       "      <td>1348</td>\n",
       "      <td>5.462</td>\n",
       "    </tr>\n",
       "    <tr>\n",
       "      <th>2011</th>\n",
       "      <td>7256</td>\n",
       "      <td>1085</td>\n",
       "      <td>6.688</td>\n",
       "    </tr>\n",
       "    <tr>\n",
       "      <th>2012</th>\n",
       "      <td>10703</td>\n",
       "      <td>1323</td>\n",
       "      <td>8.090</td>\n",
       "    </tr>\n",
       "    <tr>\n",
       "      <th>2013</th>\n",
       "      <td>22855</td>\n",
       "      <td>1559</td>\n",
       "      <td>14.660</td>\n",
       "    </tr>\n",
       "    <tr>\n",
       "      <th>2014</th>\n",
       "      <td>29767</td>\n",
       "      <td>1990</td>\n",
       "      <td>14.958</td>\n",
       "    </tr>\n",
       "    <tr>\n",
       "      <th>2015</th>\n",
       "      <td>10332</td>\n",
       "      <td>1121</td>\n",
       "      <td>9.217</td>\n",
       "    </tr>\n",
       "    <tr>\n",
       "      <th>2016</th>\n",
       "      <td>32454</td>\n",
       "      <td>1698</td>\n",
       "      <td>19.113</td>\n",
       "    </tr>\n",
       "    <tr>\n",
       "      <th>2017</th>\n",
       "      <td>9104</td>\n",
       "      <td>1036</td>\n",
       "      <td>8.788</td>\n",
       "    </tr>\n",
       "    <tr>\n",
       "      <th>2018</th>\n",
       "      <td>13364</td>\n",
       "      <td>1274</td>\n",
       "      <td>10.490</td>\n",
       "    </tr>\n",
       "    <tr>\n",
       "      <th>2019</th>\n",
       "      <td>9856</td>\n",
       "      <td>1184</td>\n",
       "      <td>8.324</td>\n",
       "    </tr>\n",
       "  </tbody>\n",
       "</table>\n",
       "</div>"
      ],
      "text/plain": [
       "      Total Mosquitoes  Total Observations  Mosquitoes to Observations Ratio\n",
       "Year                                                                        \n",
       "2007             24156                2106                            11.470\n",
       "2008              3882                 984                             3.945\n",
       "2009              5462                1129                             4.838\n",
       "2010              7363                1348                             5.462\n",
       "2011              7256                1085                             6.688\n",
       "2012             10703                1323                             8.090\n",
       "2013             22855                1559                            14.660\n",
       "2014             29767                1990                            14.958\n",
       "2015             10332                1121                             9.217\n",
       "2016             32454                1698                            19.113\n",
       "2017              9104                1036                             8.788\n",
       "2018             13364                1274                            10.490\n",
       "2019              9856                1184                             8.324"
      ]
     },
     "execution_count": 50,
     "metadata": {},
     "output_type": "execute_result"
    }
   ],
   "source": [
    "# Sums the number of mosquitoes and counts the number of traps by year\n",
    "yearly_data = mosquito_dfc.groupby('Year').agg({'Mosquito number': 'sum', 'Year': 'count'})\n",
    "yearly_data.columns = ['Total Mosquitoes', 'Total Observations']\n",
    "\n",
    "# Create a new column with the ratio of total mosquitoes to total observations\n",
    "yearly_data['Mosquitoes to Observations Ratio'] = round(yearly_data['Total Mosquitoes'] / yearly_data['Total Observations'], 3)\n",
    "\n",
    "yearly_data"
   ]
  },
  {
   "cell_type": "code",
   "execution_count": 51,
   "id": "c46c37fa-3074-4a20-a93c-e4f09e862b08",
   "metadata": {},
   "outputs": [
    {
     "data": {
      "text/html": [
       "<div>\n",
       "<style scoped>\n",
       "    .dataframe tbody tr th:only-of-type {\n",
       "        vertical-align: middle;\n",
       "    }\n",
       "\n",
       "    .dataframe tbody tr th {\n",
       "        vertical-align: top;\n",
       "    }\n",
       "\n",
       "    .dataframe thead th {\n",
       "        text-align: right;\n",
       "    }\n",
       "</style>\n",
       "<table border=\"1\" class=\"dataframe\">\n",
       "  <thead>\n",
       "    <tr style=\"text-align: right;\">\n",
       "      <th>WNV Present</th>\n",
       "      <th>negative</th>\n",
       "      <th>positive</th>\n",
       "      <th>negative WNV</th>\n",
       "      <th>positive WNV</th>\n",
       "    </tr>\n",
       "    <tr>\n",
       "      <th>Year</th>\n",
       "      <th></th>\n",
       "      <th></th>\n",
       "      <th></th>\n",
       "      <th></th>\n",
       "    </tr>\n",
       "  </thead>\n",
       "  <tbody>\n",
       "    <tr>\n",
       "      <th>2007</th>\n",
       "      <td>13225</td>\n",
       "      <td>10931</td>\n",
       "      <td>0.547</td>\n",
       "      <td>0.453</td>\n",
       "    </tr>\n",
       "    <tr>\n",
       "      <th>2008</th>\n",
       "      <td>3709</td>\n",
       "      <td>173</td>\n",
       "      <td>0.955</td>\n",
       "      <td>0.045</td>\n",
       "    </tr>\n",
       "    <tr>\n",
       "      <th>2009</th>\n",
       "      <td>5394</td>\n",
       "      <td>68</td>\n",
       "      <td>0.988</td>\n",
       "      <td>0.012</td>\n",
       "    </tr>\n",
       "    <tr>\n",
       "      <th>2010</th>\n",
       "      <td>7028</td>\n",
       "      <td>335</td>\n",
       "      <td>0.955</td>\n",
       "      <td>0.045</td>\n",
       "    </tr>\n",
       "    <tr>\n",
       "      <th>2011</th>\n",
       "      <td>7038</td>\n",
       "      <td>218</td>\n",
       "      <td>0.970</td>\n",
       "      <td>0.030</td>\n",
       "    </tr>\n",
       "    <tr>\n",
       "      <th>2012</th>\n",
       "      <td>5825</td>\n",
       "      <td>4878</td>\n",
       "      <td>0.544</td>\n",
       "      <td>0.456</td>\n",
       "    </tr>\n",
       "    <tr>\n",
       "      <th>2013</th>\n",
       "      <td>13859</td>\n",
       "      <td>8996</td>\n",
       "      <td>0.606</td>\n",
       "      <td>0.394</td>\n",
       "    </tr>\n",
       "    <tr>\n",
       "      <th>2014</th>\n",
       "      <td>19106</td>\n",
       "      <td>10661</td>\n",
       "      <td>0.642</td>\n",
       "      <td>0.358</td>\n",
       "    </tr>\n",
       "    <tr>\n",
       "      <th>2015</th>\n",
       "      <td>8302</td>\n",
       "      <td>2030</td>\n",
       "      <td>0.804</td>\n",
       "      <td>0.196</td>\n",
       "    </tr>\n",
       "    <tr>\n",
       "      <th>2016</th>\n",
       "      <td>10964</td>\n",
       "      <td>21490</td>\n",
       "      <td>0.338</td>\n",
       "      <td>0.662</td>\n",
       "    </tr>\n",
       "    <tr>\n",
       "      <th>2017</th>\n",
       "      <td>5056</td>\n",
       "      <td>4048</td>\n",
       "      <td>0.555</td>\n",
       "      <td>0.445</td>\n",
       "    </tr>\n",
       "    <tr>\n",
       "      <th>2018</th>\n",
       "      <td>7427</td>\n",
       "      <td>5937</td>\n",
       "      <td>0.556</td>\n",
       "      <td>0.444</td>\n",
       "    </tr>\n",
       "    <tr>\n",
       "      <th>2019</th>\n",
       "      <td>8994</td>\n",
       "      <td>862</td>\n",
       "      <td>0.913</td>\n",
       "      <td>0.087</td>\n",
       "    </tr>\n",
       "  </tbody>\n",
       "</table>\n",
       "</div>"
      ],
      "text/plain": [
       "WNV Present  negative  positive  negative WNV  positive WNV\n",
       "Year                                                       \n",
       "2007            13225     10931         0.547         0.453\n",
       "2008             3709       173         0.955         0.045\n",
       "2009             5394        68         0.988         0.012\n",
       "2010             7028       335         0.955         0.045\n",
       "2011             7038       218         0.970         0.030\n",
       "2012             5825      4878         0.544         0.456\n",
       "2013            13859      8996         0.606         0.394\n",
       "2014            19106     10661         0.642         0.358\n",
       "2015             8302      2030         0.804         0.196\n",
       "2016            10964     21490         0.338         0.662\n",
       "2017             5056      4048         0.555         0.445\n",
       "2018             7427      5937         0.556         0.444\n",
       "2019             8994       862         0.913         0.087"
      ]
     },
     "execution_count": 51,
     "metadata": {},
     "output_type": "execute_result"
    }
   ],
   "source": [
    "# Group the data by year and WNV presence, and calculate the total number of mosquitoes\n",
    "yearly_wnv_data = mosquito_dfc.groupby(['Year', 'WNV Present'])['Mosquito number'].sum().unstack(fill_value=0)\n",
    "\n",
    "# Calculate the percentage of positive WNV presence for each year\n",
    "yearly_wnv_data['negative WNV'] = round((yearly_wnv_data['negative'] / dfc_year), 3)\n",
    "\n",
    "# Calculate the percentage of positive WNV presence for each year\n",
    "yearly_wnv_data['positive WNV'] = round((yearly_wnv_data['positive'] / dfc_year), 3)\n",
    "\n",
    "yearly_wnv_data"
   ]
  },
  {
   "cell_type": "markdown",
   "id": "397382ce-dbd6-41dd-8674-9982bbee50ef",
   "metadata": {},
   "source": [
    "The data is ready to visualize. We will create one plot containing two lines, total number of mosquitoes and total number of traps, to see the changes over time in both groups. We will also create a stacked bar chart that graphs the total number of mosquitoes by WNV presence. We can include the percentage of the presence of WNV for each year on top of each bar to better visualize how much of the total number of mosquitoes carried WNV."
   ]
  },
  {
   "cell_type": "code",
   "execution_count": 52,
   "id": "2f428d93-72e3-49cc-a8b0-0277713c3035",
   "metadata": {},
   "outputs": [
    {
     "data": {
      "image/png": "[encoded data removed]",
      "text/plain": [
       "<Figure size 700x400 with 1 Axes>"
      ]
     },
     "metadata": {},
     "output_type": "display_data"
    },
    {
     "data": {
      "image/png": "[encoded data removed]",
      "text/plain": [
       "<Figure size 640x480 with 1 Axes>"
      ]
     },
     "metadata": {},
     "output_type": "display_data"
    },
    {
     "data": {
      "text/html": [
       "<div>\n",
       "<style scoped>\n",
       "    .dataframe tbody tr th:only-of-type {\n",
       "        vertical-align: middle;\n",
       "    }\n",
       "\n",
       "    .dataframe tbody tr th {\n",
       "        vertical-align: top;\n",
       "    }\n",
       "\n",
       "    .dataframe thead th {\n",
       "        text-align: right;\n",
       "    }\n",
       "</style>\n",
       "<table border=\"1\" class=\"dataframe\">\n",
       "  <thead>\n",
       "    <tr style=\"text-align: right;\">\n",
       "      <th></th>\n",
       "      <th>Total Mosquitoes</th>\n",
       "      <th>Total Observations</th>\n",
       "      <th>Mosquitoes to Observations Ratio</th>\n",
       "    </tr>\n",
       "    <tr>\n",
       "      <th>Year</th>\n",
       "      <th></th>\n",
       "      <th></th>\n",
       "      <th></th>\n",
       "    </tr>\n",
       "  </thead>\n",
       "  <tbody>\n",
       "    <tr>\n",
       "      <th>2007</th>\n",
       "      <td>24156</td>\n",
       "      <td>2106</td>\n",
       "      <td>11.470</td>\n",
       "    </tr>\n",
       "    <tr>\n",
       "      <th>2008</th>\n",
       "      <td>3882</td>\n",
       "      <td>984</td>\n",
       "      <td>3.945</td>\n",
       "    </tr>\n",
       "    <tr>\n",
       "      <th>2009</th>\n",
       "      <td>5462</td>\n",
       "      <td>1129</td>\n",
       "      <td>4.838</td>\n",
       "    </tr>\n",
       "    <tr>\n",
       "      <th>2010</th>\n",
       "      <td>7363</td>\n",
       "      <td>1348</td>\n",
       "      <td>5.462</td>\n",
       "    </tr>\n",
       "    <tr>\n",
       "      <th>2011</th>\n",
       "      <td>7256</td>\n",
       "      <td>1085</td>\n",
       "      <td>6.688</td>\n",
       "    </tr>\n",
       "    <tr>\n",
       "      <th>2012</th>\n",
       "      <td>10703</td>\n",
       "      <td>1323</td>\n",
       "      <td>8.090</td>\n",
       "    </tr>\n",
       "    <tr>\n",
       "      <th>2013</th>\n",
       "      <td>22855</td>\n",
       "      <td>1559</td>\n",
       "      <td>14.660</td>\n",
       "    </tr>\n",
       "    <tr>\n",
       "      <th>2014</th>\n",
       "      <td>29767</td>\n",
       "      <td>1990</td>\n",
       "      <td>14.958</td>\n",
       "    </tr>\n",
       "    <tr>\n",
       "      <th>2015</th>\n",
       "      <td>10332</td>\n",
       "      <td>1121</td>\n",
       "      <td>9.217</td>\n",
       "    </tr>\n",
       "    <tr>\n",
       "      <th>2016</th>\n",
       "      <td>32454</td>\n",
       "      <td>1698</td>\n",
       "      <td>19.113</td>\n",
       "    </tr>\n",
       "    <tr>\n",
       "      <th>2017</th>\n",
       "      <td>9104</td>\n",
       "      <td>1036</td>\n",
       "      <td>8.788</td>\n",
       "    </tr>\n",
       "    <tr>\n",
       "      <th>2018</th>\n",
       "      <td>13364</td>\n",
       "      <td>1274</td>\n",
       "      <td>10.490</td>\n",
       "    </tr>\n",
       "    <tr>\n",
       "      <th>2019</th>\n",
       "      <td>9856</td>\n",
       "      <td>1184</td>\n",
       "      <td>8.324</td>\n",
       "    </tr>\n",
       "  </tbody>\n",
       "</table>\n",
       "</div>"
      ],
      "text/plain": [
       "      Total Mosquitoes  Total Observations  Mosquitoes to Observations Ratio\n",
       "Year                                                                        \n",
       "2007             24156                2106                            11.470\n",
       "2008              3882                 984                             3.945\n",
       "2009              5462                1129                             4.838\n",
       "2010              7363                1348                             5.462\n",
       "2011              7256                1085                             6.688\n",
       "2012             10703                1323                             8.090\n",
       "2013             22855                1559                            14.660\n",
       "2014             29767                1990                            14.958\n",
       "2015             10332                1121                             9.217\n",
       "2016             32454                1698                            19.113\n",
       "2017              9104                1036                             8.788\n",
       "2018             13364                1274                            10.490\n",
       "2019              9856                1184                             8.324"
      ]
     },
     "execution_count": 52,
     "metadata": {},
     "output_type": "execute_result"
    }
   ],
   "source": [
    "# Plot number of mosquitoes per year and total observations (traps) per year\n",
    "plt.figure(figsize=(7, 4))\n",
    "ax = yearly_data['Total Mosquitoes'].plot(color = 'tab:blue', label = 'Mosquitoes')\n",
    "yearly_data['Total Observations'].plot(color = 'tab:orange', label = 'Traps')\n",
    "\n",
    "# Plot total number of mosquitoes by absence or presence of WNV\n",
    "bx = yearly_wnv_data.plot(kind = 'bar', stacked = True, color = ['tab:blue', 'tab:orange'], alpha = 0.7)\n",
    "\n",
    "# Updating plot properties\n",
    "ax.set_xlabel('Year')\n",
    "ax.set_ylabel('Count')\n",
    "ax.set_title('Number of Mosquitoes and Traps per Year')\n",
    "ax.legend()\n",
    "bx.set_title('Total Number of Mosquitoes Each Year and WNV Presence')\n",
    "bx.set_xlabel('Year')\n",
    "bx.set_ylabel('Total Number of Mosquitoes')\n",
    "bx.set_xticklabels(bx.get_xticklabels(), rotation = 45)\n",
    "bx.legend(title = 'WNV Presence', labels = ['No WNV', 'WNV Present'])\n",
    "\n",
    "# Add data labels for WNV positive data\n",
    "for i, (index, row) in enumerate(yearly_wnv_data.iterrows()):\n",
    "    bx.text(i, row['negative'] + row['positive'], f\"{row['positive WNV']*100:.1f}%\", ha = 'center', va = 'bottom')\n",
    "\n",
    "# Makes sure there is no overlap in plots\n",
    "plt.tight_layout()\n",
    "\n",
    "# Show the plot\n",
    "plt.show()\n",
    "\n",
    "# Can include the table above for better visibility\n",
    "yearly_data"
   ]
  },
  {
   "cell_type": "markdown",
   "id": "167a2756-c552-4e36-8825-ba71ce29cfd7",
   "metadata": {},
   "source": [
    "Upon reviewing the initial two plots, it's evident that the years **2007, 2013, 2014, and 2016** stand out with the highest mosquito counts. A closer look at the accompanying table reveals that these particular years witnessed a greater deployment of traps, which likely contributed to the increased mosquito capture. Interestingly, a clear pattern regarding positive WNV cases across the years isn't immediately discernible. While years with higher mosquito counts tend to exhibit higher percentages of positive WNV, notable instances of positive WNV are also observed in other years (2012, 2017, and 2018)."
   ]
  },
  {
   "cell_type": "markdown",
   "id": "bb286e31",
   "metadata": {},
   "source": [
    "## Conclusion <a class=\"anchor\" id=\"conclusion\"></a>"
   ]
  },
  {
   "cell_type": "markdown",
   "id": "31935e5b-7494-449c-aa0c-efce019a1305",
   "metadata": {},
   "source": [
    "These are the conclusions from the exploratory data analysis.\n",
    "\n",
    "- The peak activity of mosquito capture occurs during the summer months, notably in July and August. This trend reflects the heightened activity of mosquitoes during the warmer periods of the year.\n",
    "- Predominantly, the captured mosquitoes are devoid of the WNV. Among the various species, `CULEX RESTUANS` emerges as the most frequently captured, closely followed by `CULEX PIPIENS`. Despite being the second most captured species, `CULEX PIPIENS` exhibits the highest likelihood of transmitting WNV, with approximately 23% of its total catch testing positive for the virus.\n",
    "- While `GRAVID` trap type captures the majority of mosquitoes, the `SENTINEL` trap type demonstrates superior efficiency. This difference is attributed to the widespread use of `GRAVID` traps. The `SENTINEL` trap consistently captures a larger number of mosquitoes per instance, suggesting its efficacy in single-capture scenarios.\n",
    "\n",
    "**To optimize the capture of mosquitoes carrying WNV, we would strategically plan to trap them during peak activity periods, predominantly in July and August, when mosquito populations surge. Leveraging a significant number of `SENTINEL` traps, previously seen for their efficacy in mosquito capture, would be paramount. Additionally, prioritizing the capture of `CULEX PIPIENS` mosquitoes, known for their heightened likelihood of carrying the virus, would enhance the targeted approach, increasing the probability of capturing WNV-carrying specimens.**\n",
    "\n"
   ]
  },
  {
   "cell_type": "markdown",
   "id": "76d1f0ba-91bf-4c2f-9ec1-6c01dec1a97f",
   "metadata": {},
   "source": [
    "## Other Visualizations"
   ]
  },
  {
   "cell_type": "code",
   "execution_count": 53,
   "id": "0ab8e7b9-08ee-45a8-8faf-c8e659b206f3",
   "metadata": {},
   "outputs": [
    {
     "data": {
      "image/png": "[encoded data removed]",
      "text/plain": [
       "<Figure size 1000x600 with 1 Axes>"
      ]
     },
     "metadata": {},
     "output_type": "display_data"
    }
   ],
   "source": [
    "# Group data by date and calculate sum of mosquitoes for each date\n",
    "daily_mosquito_counts = mosquito_dfc.groupby('Date')['Mosquito number'].sum()\n",
    "\n",
    "# Create time series plot\n",
    "plt.figure(figsize = (10, 6))\n",
    "plt.plot(daily_mosquito_counts.index, daily_mosquito_counts, marker = 'o', color = 'skyblue', linestyle = '-')\n",
    "\n",
    "# Updating plot properties\n",
    "plt.title('Mosquito Abundance Over Time')\n",
    "plt.xlabel('Date')\n",
    "plt.ylabel('Number of Mosquitoes')\n",
    "\n",
    "# Show plot\n",
    "plt.show()"
   ]
  },
  {
   "cell_type": "code",
   "execution_count": 58,
   "id": "bd41b418-6e2d-4927-99e1-44f870671ce1",
   "metadata": {},
   "outputs": [
    {
     "data": {
      "image/png": "[encoded data removed]",
      "text/plain": [
       "<Figure size 1000x800 with 1 Axes>"
      ]
     },
     "metadata": {},
     "output_type": "display_data"
    }
   ],
   "source": [
    "# Create a scatter plot of latitude and longitude\n",
    "plt.figure(figsize = (10, 8))\n",
    "sns.scatterplot(x = 'Lon', y = 'Lat', data = mosquito_dfc, hue = 'Mosquito number', \n",
    "                size = 'Mosquito number', sizes = (20, 200), palette = 'viridis', alpha = 0.6)\n",
    "\n",
    "# Update plot properties\n",
    "plt.title('Spatial Distribution of Mosquito Abundance')\n",
    "plt.xlabel('Longitude')\n",
    "plt.ylabel('Latitude')\n",
    "\n",
    "# Customize legend\n",
    "plt.legend()\n",
    "\n",
    "# Show the plot\n",
    "plt.show()"
   ]
  },
  {
   "cell_type": "markdown",
   "id": "7424eb11-170e-4377-b283-65bb4c528bca",
   "metadata": {},
   "source": [
    "[[Back to top]](#toc)"
   ]
  }
 ],
 "metadata": {
  "kernelspec": {
   "display_name": "Python 3 (ipykernel)",
   "language": "python",
   "name": "python3"
  },
  "language_info": {
   "codemirror_mode": {
    "name": "ipython",
    "version": 3
   },
   "file_extension": ".py",
   "mimetype": "text/x-python",
   "name": "python",
   "nbconvert_exporter": "python",
   "pygments_lexer": "ipython3",
   "version": "3.10.9"
  },
  "toc-autonumbering": false,
  "toc-showmarkdowntxt": false
 },
 "nbformat": 4,
 "nbformat_minor": 5
}
